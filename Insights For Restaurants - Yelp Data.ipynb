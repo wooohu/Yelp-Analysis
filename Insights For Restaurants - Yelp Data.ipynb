{
 "cells": [
  {
   "cell_type": "markdown",
   "metadata": {},
   "source": [
    "# Insights for Restaurants Using Yelp Data"
   ]
  },
  {
   "cell_type": "markdown",
   "metadata": {},
   "source": [
    "**About the data:**\n",
    "This data was obtained from Kaggle, courtesy of Yelp. It includes information on 174,000 businesses globally and spans from business attributes to checkins and reviews.\n",
    "\n",
    "**Project Outline:**\n",
    "\n",
    "I. Data Cleansing\n",
    "    \n",
    "    A. Drop columns, merge datasets\n",
    "    B. Create new dummies, fill in NAs\n",
    "\n",
    "II. Overview of Businesses on Yelp\n",
    "    \n",
    "    A. General trends of business attributes, categories, locations, and user activity\n",
    "\n",
    "III. Yelp Data Analytics for Restaurants \n",
    "    \n",
    "    A. What are the most important business attributes for a restaurant?\n",
    "    B. Which geographic areas have the most competition? What are some good \"role model\" restaurants?\n",
    "    C. Providing business insight for a specific international chain restaurant\n",
    "    \n",
    "IV. How People Use Yelp\n",
    "    \n",
    "    A. Small-scale qualitative research with word clouds\n",
    "    B. Sentiment analysis using user tips\n",
    "    C. Attributes of top users"
   ]
  },
  {
   "cell_type": "code",
   "execution_count": 157,
   "metadata": {
    "collapsed": false
   },
   "outputs": [],
   "source": [
    "#import modules:\n",
    "\n",
    "from IPython.core.interactiveshell import InteractiveShell\n",
    "InteractiveShell.ast_node_interactivity = \"all\"\n",
    "\n",
    "import seaborn as sns\n",
    "import pandas as pd\n",
    "import numpy as np\n",
    "%pylab inline\n",
    "\n",
    "import sklearn as sk\n",
    "import sklearn.tree as tree\n",
    "from IPython.display import Image  \n",
    "import pydotplus\n",
    "\n",
    "import sys\n",
    "#reload(sys)\n",
    "#sys.setdefaultencoding('utf8')"
   ]
  },
  {
   "cell_type": "code",
   "execution_count": 158,
   "metadata": {
    "collapsed": true
   },
   "outputs": [],
   "source": [
    "bus = pd.read_csv(\"yelp_business.csv\")\n",
    "\n",
    "bus_att = pd.read_csv(\"yelp_business_attributes.csv\")"
   ]
  },
  {
   "cell_type": "markdown",
   "metadata": {},
   "source": [
    "**Overview of the data:**"
   ]
  },
  {
   "cell_type": "code",
   "execution_count": 159,
   "metadata": {
    "collapsed": false,
    "scrolled": true
   },
   "outputs": [
    {
     "data": {
      "text/html": [
       "<div>\n",
       "<style>\n",
       "    .dataframe thead tr:only-child th {\n",
       "        text-align: right;\n",
       "    }\n",
       "\n",
       "    .dataframe thead th {\n",
       "        text-align: left;\n",
       "    }\n",
       "\n",
       "    .dataframe tbody tr th {\n",
       "        vertical-align: top;\n",
       "    }\n",
       "</style>\n",
       "<table border=\"1\" class=\"dataframe\">\n",
       "  <thead>\n",
       "    <tr style=\"text-align: right;\">\n",
       "      <th></th>\n",
       "      <th>business_id</th>\n",
       "      <th>name</th>\n",
       "      <th>neighborhood</th>\n",
       "      <th>address</th>\n",
       "      <th>city</th>\n",
       "      <th>state</th>\n",
       "      <th>postal_code</th>\n",
       "      <th>latitude</th>\n",
       "      <th>longitude</th>\n",
       "      <th>stars</th>\n",
       "      <th>review_count</th>\n",
       "      <th>is_open</th>\n",
       "      <th>categories</th>\n",
       "    </tr>\n",
       "  </thead>\n",
       "  <tbody>\n",
       "    <tr>\n",
       "      <th>0</th>\n",
       "      <td>FYWN1wneV18bWNgQjJ2GNg</td>\n",
       "      <td>\"Dental by Design\"</td>\n",
       "      <td>NaN</td>\n",
       "      <td>\"4855 E Warner Rd, Ste B9\"</td>\n",
       "      <td>Ahwatukee</td>\n",
       "      <td>AZ</td>\n",
       "      <td>85044</td>\n",
       "      <td>33.330690</td>\n",
       "      <td>-111.978599</td>\n",
       "      <td>4.0</td>\n",
       "      <td>22</td>\n",
       "      <td>1</td>\n",
       "      <td>Dentists;General Dentistry;Health &amp; Medical;Or...</td>\n",
       "    </tr>\n",
       "    <tr>\n",
       "      <th>1</th>\n",
       "      <td>He-G7vWjzVUysIKrfNbPUQ</td>\n",
       "      <td>\"Stephen Szabo Salon\"</td>\n",
       "      <td>NaN</td>\n",
       "      <td>\"3101 Washington Rd\"</td>\n",
       "      <td>McMurray</td>\n",
       "      <td>PA</td>\n",
       "      <td>15317</td>\n",
       "      <td>40.291685</td>\n",
       "      <td>-80.104900</td>\n",
       "      <td>3.0</td>\n",
       "      <td>11</td>\n",
       "      <td>1</td>\n",
       "      <td>Hair Stylists;Hair Salons;Men's Hair Salons;Bl...</td>\n",
       "    </tr>\n",
       "  </tbody>\n",
       "</table>\n",
       "</div>"
      ],
      "text/plain": [
       "              business_id                   name neighborhood  \\\n",
       "0  FYWN1wneV18bWNgQjJ2GNg     \"Dental by Design\"          NaN   \n",
       "1  He-G7vWjzVUysIKrfNbPUQ  \"Stephen Szabo Salon\"          NaN   \n",
       "\n",
       "                      address       city state postal_code   latitude  \\\n",
       "0  \"4855 E Warner Rd, Ste B9\"  Ahwatukee    AZ       85044  33.330690   \n",
       "1        \"3101 Washington Rd\"   McMurray    PA       15317  40.291685   \n",
       "\n",
       "    longitude  stars  review_count  is_open  \\\n",
       "0 -111.978599    4.0            22        1   \n",
       "1  -80.104900    3.0            11        1   \n",
       "\n",
       "                                          categories  \n",
       "0  Dentists;General Dentistry;Health & Medical;Or...  \n",
       "1  Hair Stylists;Hair Salons;Men's Hair Salons;Bl...  "
      ]
     },
     "execution_count": 159,
     "metadata": {},
     "output_type": "execute_result"
    }
   ],
   "source": [
    "bus.info()"
   ]
  },
  {
   "cell_type": "code",
   "execution_count": null,
   "metadata": {
    "collapsed": true
   },
   "outputs": [],
   "source": [
    "bus_att.info()"
   ]
  },
  {
   "cell_type": "markdown",
   "metadata": {},
   "source": [
    "# Part I: Data Cleansing\n",
    "1. drop unwanted columns\n",
    "\n",
    "2. convert columns to dummies\n",
    "\n",
    "3. merge datasets to create master dataframe"
   ]
  },
  {
   "cell_type": "markdown",
   "metadata": {
    "collapsed": true
   },
   "source": [
    "1. Remove some unnecessary columns from Dataset1:"
   ]
  },
  {
   "cell_type": "code",
   "execution_count": 161,
   "metadata": {
    "collapsed": false
   },
   "outputs": [],
   "source": [
    "bus.drop(['neighborhood','address'],axis=1,inplace=True)"
   ]
  },
  {
   "cell_type": "code",
   "execution_count": 162,
   "metadata": {
    "collapsed": false
   },
   "outputs": [],
   "source": [
    "bus.info()"
   ]
  },
  {
   "cell_type": "markdown",
   "metadata": {},
   "source": [
    "### Cleaning the bus_att dataframe:\n",
    "\n",
    "We can do the following to clean up the data:\n",
    "\n",
    "1. remove some of these columns\n",
    "\n",
    "2. make one dummy out of the columns which are similar\n"
   ]
  },
  {
   "cell_type": "code",
   "execution_count": 163,
   "metadata": {
    "collapsed": false
   },
   "outputs": [],
   "source": [
    "#Dropping columns having mostly NA Values\n",
    "\n",
    "bus_att = bus_att[bus_att.columns.drop(list(bus_att.filter(regex='HairSpecializesIn')))]\n",
    "bus_att = bus_att[bus_att.columns.drop(list(bus_att.filter(regex='Music')))]\n",
    "bus_att = bus_att[bus_att.columns.drop(list(bus_att.filter(regex='Ambience')))]\n",
    "bus_att = bus_att[bus_att.columns.drop(list(bus_att.filter(regex='BYOB')))]\n",
    "\n",
    "\n",
    "bus_att.drop([\"AcceptsInsurance\", \"CoatCheck\",  \"Smoking\",\"DriveThru\", \"GoodForDancing\",  \\\n",
    "              \"Corkage\", \"ByAppointmentOnly\",\"RestaurantsPriceRange2\",\\\n",
    "              \"HasTV\",\"NoiseLevel\",\"RestaurantsAttire\",\"WiFi\",\"RestaurantsTakeOut\",\"OutdoorSeating\",\\\n",
    "             \"RestaurantsDelivery\",\"BusinessAcceptsBitcoin\",\"AgesAllowed\",\"RestaurantsCounterService\",\"RestaurantsGoodForGroups\"], axis=1,inplace=True)"
   ]
  },
  {
   "cell_type": "code",
   "execution_count": 164,
   "metadata": {
    "collapsed": false
   },
   "outputs": [],
   "source": [
    "bus_att.columns = [c.replace('-', '_') for c in bus_att.columns]"
   ]
  },
  {
   "cell_type": "code",
   "execution_count": 165,
   "metadata": {
    "collapsed": false
   },
   "outputs": [],
   "source": [
    "###Creating Parking Dummy\n",
    "bus_att.loc[(bus_att.BusinessParking_garage=='True')|(bus_att.BusinessParking_street=='True')|\\\n",
    "        (bus_att.BusinessParking_validated=='True')|(bus_att.BusinessParking_lot=='True')|\\\n",
    "        (bus_att.BusinessParking_valet=='True'),'Parking'] = 1\n",
    "bus_att.loc[(bus_att.Parking!=1)&((bus_att.BusinessParking_garage=='False')|(bus_att.BusinessParking_street=='False')\\\n",
    "                          |(bus_att.BusinessParking_validated=='False')|(bus_att.BusinessParking_lot=='False')|\\\n",
    "                          (bus_att.BusinessParking_valet=='False')),'Parking'] = 0\n",
    "bus_att.loc[((bus_att.BusinessParking_garage == 'Na')&(bus_att.BusinessParking_street == 'Na')&\\\n",
    "         (bus_att.BusinessParking_validated == 'Na')&(bus_att.BusinessParking_lot == 'Na')&\\\n",
    "         (bus_att.BusinessParking_valet == 'Na')),'Parking'] = 'Na'"
   ]
  },
  {
   "cell_type": "code",
   "execution_count": 166,
   "metadata": {
    "collapsed": true
   },
   "outputs": [],
   "source": [
    "##deleting the columns for which combined dummy columns has been created above\n",
    "bus_att = bus_att[bus_att.columns.drop(list(bus_att.filter(regex='BusinessParking')))]\n",
    "bus_att = bus_att[bus_att.columns.drop(list(bus_att.filter(regex='BestNights')))]\n",
    "bus_att = bus_att[bus_att.columns.drop(list(bus_att.filter(regex='GoodForMeal')))]\n",
    "bus_att = bus_att[bus_att.columns.drop(list(bus_att.filter(regex='DietaryRestrictions')))]"
   ]
  },
  {
   "cell_type": "code",
   "execution_count": 167,
   "metadata": {
    "collapsed": false
   },
   "outputs": [],
   "source": [
    "#Transform TRUE FALSE variables to 0 and 1s and create dummies:\n",
    "\n",
    "bus_att.loc[bus_att.BusinessAcceptsCreditCards == 'True', 'BusinessAcceptsCreditCards'] = 1\n",
    "bus_att.loc[bus_att.BusinessAcceptsCreditCards == 'False', 'BusinessAcceptsCreditCards'] = 0\n",
    "bus_att.loc[bus_att.BusinessAcceptsCreditCards == 'Na', 'BusinessAcceptsCreditCards'] = 'NaN'\n",
    "\n",
    "bus_att.loc[bus_att.GoodForKids == '1', 'GoodForKids'] = 0\n",
    "bus_att.loc[bus_att.GoodForKids == '2', 'GoodForKids'] = 0\n",
    "bus_att.loc[bus_att.GoodForKids == '3', 'GoodForKids'] = 1\n",
    "bus_att.loc[bus_att.GoodForKids == '4', 'GoodForKids'] = 1\n",
    "bus_att.loc[bus_att.GoodForKids == 'Na', 'GoodForKids'] = 'Na'\n",
    "\n",
    "bus_att.loc[bus_att.WheelchairAccessible == 'True', 'WheelchairAccessible'] = 1\n",
    "bus_att.loc[bus_att.WheelchairAccessible == 'False', 'WheelchairAccessible'] = 0\n",
    "bus_att.loc[bus_att.WheelchairAccessible == 'Na', 'WheelchairAccessible'] = 'NaN'\n",
    "\n",
    "bus_att.loc[bus_att.BikeParking == 'True', 'BikeParking'] = 1\n",
    "bus_att.loc[bus_att.BikeParking == 'False', 'BikeParking'] = 0\n",
    "bus_att.loc[bus_att.BikeParking == 'Na', 'BikeParking'] = 'NaN'\n",
    "\n",
    "bus_att.loc[bus_att.Alcohol == 'True', 'Alcohol'] = 1\n",
    "bus_att.loc[bus_att.Alcohol == 'False', 'Alcohol'] = 0\n",
    "bus_att.loc[bus_att.Alcohol == 'Na', 'Alcohol'] = 'NaN'\n",
    "\n",
    "\n",
    "bus_att.loc[bus_att.Caters == 'True', 'Caters'] = 1\n",
    "bus_att.loc[bus_att.Caters == 'False', 'Caters'] = 0\n",
    "bus_att.loc[bus_att.Caters == 'Na', 'Caters'] = 'NaN'\n",
    "\n",
    "bus_att.loc[bus_att.RestaurantsReservations == 'True', 'RestaurantsReservations'] = 1\n",
    "bus_att.loc[bus_att.RestaurantsReservations == 'False', 'RestaurantsReservations'] = 0\n",
    "bus_att.loc[bus_att.RestaurantsReservations == 'Na', 'RestaurantsReservations'] = 'NaN'\n",
    "\n",
    "bus_att.loc[bus_att.HappyHour == 'True', 'HappyHour'] = 1\n",
    "bus_att.loc[bus_att.HappyHour == 'False', 'HappyHour'] = 0\n",
    "bus_att.loc[bus_att.HappyHour == 'Na', 'HappyHour'] = 'NaN'\n",
    "\n",
    "bus_att.loc[bus_att.RestaurantsTableService == 'True', 'RestaurantsTableService'] = 1\n",
    "bus_att.loc[bus_att.RestaurantsTableService == 'False', 'RestaurantsTableService'] = 0\n",
    "bus_att.loc[bus_att.RestaurantsTableService == 'Na', 'RestaurantsTableService'] = 'NaN'\n",
    "\n",
    "bus_att.loc[bus_att.DogsAllowed == 'True', 'DogsAllowed'] = 1\n",
    "bus_att.loc[bus_att.DogsAllowed == 'False', 'DogsAllowed'] = 0\n",
    "bus_att.loc[bus_att.DogsAllowed == 'Na', 'DogsAllowed'] = 'NaN'\n",
    "\n",
    "\n",
    "bus_att.loc[bus_att.Open24Hours == 'True', 'Open24Hours'] = 1\n",
    "bus_att.loc[bus_att.Open24Hours == 'False', 'Open24Hours'] = 0\n",
    "bus_att.loc[bus_att.Open24Hours == 'Na', 'Open24Hours'] = 'NaN'"
   ]
  },
  {
   "cell_type": "markdown",
   "metadata": {},
   "source": [
    "Now we can merge datasets 1 and 2 together on the common column \"business_id\"."
   ]
  },
  {
   "cell_type": "code",
   "execution_count": 168,
   "metadata": {
    "collapsed": false
   },
   "outputs": [
    {
     "data": {
      "text/plain": [
       "152041"
      ]
     },
     "execution_count": 168,
     "metadata": {},
     "output_type": "execute_result"
    }
   ],
   "source": [
    "##merging dataset\n",
    "mdf= bus.merge(bus_att, left_on = \"business_id\", right_on = \"business_id\")\n",
    "len(mdf)"
   ]
  },
  {
   "cell_type": "code",
   "execution_count": 169,
   "metadata": {
    "collapsed": false
   },
   "outputs": [],
   "source": [
    "mdf.info()"
   ]
  },
  {
   "cell_type": "markdown",
   "metadata": {
    "collapsed": true
   },
   "source": [
    "### More cleaning using master df"
   ]
  },
  {
   "cell_type": "code",
   "execution_count": 170,
   "metadata": {
    "collapsed": true
   },
   "outputs": [],
   "source": [
    "##Creating Dummy for Stars\n",
    "\n",
    "mdf.loc[mdf.stars > 3.5, 'stars_dum'] = 1\n",
    "mdf.loc[mdf.stars <= 3.5, 'stars_dum'] = 0"
   ]
  },
  {
   "cell_type": "code",
   "execution_count": 171,
   "metadata": {
    "collapsed": false
   },
   "outputs": [],
   "source": [
    "##Getting general categories: ???\n",
    "# Creating Restaurant_only dummy column\n",
    "\n",
    "mdf['Restaurants'] = mdf['categories'].str.contains(\"Restaurants\")\n",
    "\n",
    "mdf.loc[mdf.Restaurants == True, 'Restaurants_dum'] = 1\n",
    "mdf.loc[mdf.Restaurants == False, 'Restaurants_dum'] = 0"
   ]
  },
  {
   "cell_type": "code",
   "execution_count": 172,
   "metadata": {
    "collapsed": false
   },
   "outputs": [],
   "source": [
    "# Creating Health dummy column \n",
    "mdf['Health'] = mdf['categories'].str.contains(\"Health & Medical\")\n",
    "\n",
    "mdf.loc[mdf.Health == True, 'Health_dum'] = 1\n",
    "mdf.loc[mdf.Health == False, 'Health_dum'] = 0"
   ]
  },
  {
   "cell_type": "code",
   "execution_count": 173,
   "metadata": {
    "collapsed": true
   },
   "outputs": [],
   "source": [
    "# Creating Shopping dummy column\n",
    "mdf['Shopping'] = mdf['categories'].str.contains(\"Shopping\")\n",
    "\n",
    "mdf.loc[mdf.Shopping == True, 'Shopping_dum'] = 1\n",
    "mdf.loc[mdf.Shopping == False, 'Shopping_dum'] = 0"
   ]
  },
  {
   "cell_type": "code",
   "execution_count": 174,
   "metadata": {
    "collapsed": true
   },
   "outputs": [],
   "source": [
    "# Creating Beauty dummy column\n",
    "mdf['Beauty'] = mdf['categories'].str.contains(\"Beauty & Spas\")\n",
    "\n",
    "mdf.loc[mdf.Beauty == True, 'Beauty_dum'] = 1\n",
    "mdf.loc[mdf.Beauty == False, 'Beauty_dum'] = 0"
   ]
  },
  {
   "cell_type": "code",
   "execution_count": 175,
   "metadata": {
    "collapsed": true
   },
   "outputs": [],
   "source": [
    "# Creating Nightlife dummy column\n",
    "mdf['Nightlife'] = mdf['categories'].str.contains(\"Nightlife\")\n",
    "\n",
    "mdf.loc[mdf.Nightlife == True, 'Nightlife_dum'] = 1\n",
    "mdf.loc[mdf.Nightlife == False, 'Nightlife_dum'] = 0"
   ]
  },
  {
   "cell_type": "code",
   "execution_count": 176,
   "metadata": {
    "collapsed": false
   },
   "outputs": [
    {
     "data": {
      "text/html": [
       "<div>\n",
       "<style>\n",
       "    .dataframe thead tr:only-child th {\n",
       "        text-align: right;\n",
       "    }\n",
       "\n",
       "    .dataframe thead th {\n",
       "        text-align: left;\n",
       "    }\n",
       "\n",
       "    .dataframe tbody tr th {\n",
       "        vertical-align: top;\n",
       "    }\n",
       "</style>\n",
       "<table border=\"1\" class=\"dataframe\">\n",
       "  <thead>\n",
       "    <tr style=\"text-align: right;\">\n",
       "      <th></th>\n",
       "      <th>business_id</th>\n",
       "      <th>name</th>\n",
       "      <th>city</th>\n",
       "      <th>state</th>\n",
       "      <th>postal_code</th>\n",
       "      <th>latitude</th>\n",
       "      <th>longitude</th>\n",
       "      <th>stars</th>\n",
       "      <th>review_count</th>\n",
       "      <th>is_open</th>\n",
       "      <th>...</th>\n",
       "      <th>RestaurantsTableService</th>\n",
       "      <th>DogsAllowed</th>\n",
       "      <th>Open24Hours</th>\n",
       "      <th>Parking</th>\n",
       "      <th>stars_dum</th>\n",
       "      <th>Restaurants_dum</th>\n",
       "      <th>Health_dum</th>\n",
       "      <th>Shopping_dum</th>\n",
       "      <th>Beauty_dum</th>\n",
       "      <th>Nightlife_dum</th>\n",
       "    </tr>\n",
       "  </thead>\n",
       "  <tbody>\n",
       "    <tr>\n",
       "      <th>0</th>\n",
       "      <td>FYWN1wneV18bWNgQjJ2GNg</td>\n",
       "      <td>\"Dental by Design\"</td>\n",
       "      <td>Ahwatukee</td>\n",
       "      <td>AZ</td>\n",
       "      <td>85044</td>\n",
       "      <td>33.330690</td>\n",
       "      <td>-111.978599</td>\n",
       "      <td>4.0</td>\n",
       "      <td>22</td>\n",
       "      <td>1</td>\n",
       "      <td>...</td>\n",
       "      <td>NaN</td>\n",
       "      <td>NaN</td>\n",
       "      <td>NaN</td>\n",
       "      <td>1</td>\n",
       "      <td>1.0</td>\n",
       "      <td>0.0</td>\n",
       "      <td>1.0</td>\n",
       "      <td>0.0</td>\n",
       "      <td>0.0</td>\n",
       "      <td>0.0</td>\n",
       "    </tr>\n",
       "    <tr>\n",
       "      <th>1</th>\n",
       "      <td>He-G7vWjzVUysIKrfNbPUQ</td>\n",
       "      <td>\"Stephen Szabo Salon\"</td>\n",
       "      <td>McMurray</td>\n",
       "      <td>PA</td>\n",
       "      <td>15317</td>\n",
       "      <td>40.291685</td>\n",
       "      <td>-80.104900</td>\n",
       "      <td>3.0</td>\n",
       "      <td>11</td>\n",
       "      <td>1</td>\n",
       "      <td>...</td>\n",
       "      <td>NaN</td>\n",
       "      <td>NaN</td>\n",
       "      <td>NaN</td>\n",
       "      <td>Na</td>\n",
       "      <td>0.0</td>\n",
       "      <td>0.0</td>\n",
       "      <td>0.0</td>\n",
       "      <td>0.0</td>\n",
       "      <td>1.0</td>\n",
       "      <td>0.0</td>\n",
       "    </tr>\n",
       "  </tbody>\n",
       "</table>\n",
       "<p>2 rows × 28 columns</p>\n",
       "</div>"
      ],
      "text/plain": [
       "              business_id                   name       city state postal_code  \\\n",
       "0  FYWN1wneV18bWNgQjJ2GNg     \"Dental by Design\"  Ahwatukee    AZ       85044   \n",
       "1  He-G7vWjzVUysIKrfNbPUQ  \"Stephen Szabo Salon\"   McMurray    PA       15317   \n",
       "\n",
       "    latitude   longitude  stars  review_count  is_open      ...       \\\n",
       "0  33.330690 -111.978599    4.0            22        1      ...        \n",
       "1  40.291685  -80.104900    3.0            11        1      ...        \n",
       "\n",
       "  RestaurantsTableService DogsAllowed Open24Hours Parking stars_dum  \\\n",
       "0                     NaN         NaN         NaN       1       1.0   \n",
       "1                     NaN         NaN         NaN      Na       0.0   \n",
       "\n",
       "  Restaurants_dum Health_dum Shopping_dum Beauty_dum Nightlife_dum  \n",
       "0             0.0        1.0          0.0        0.0           0.0  \n",
       "1             0.0        0.0          0.0        1.0           0.0  \n",
       "\n",
       "[2 rows x 28 columns]"
      ]
     },
     "execution_count": 176,
     "metadata": {},
     "output_type": "execute_result"
    }
   ],
   "source": [
    "##drop boolean columns:\n",
    "\n",
    "mdf.drop(['Restaurants', 'Health', 'Shopping', 'Nightlife', 'Beauty', 'categories'], axis=1).head(2)"
   ]
  },
  {
   "cell_type": "markdown",
   "metadata": {},
   "source": [
    "### Fill in the na's\n",
    "Some columns were dropped because they had too many NA's to be useful. For the rest, the NA's were filled in using the median of the corresponding column."
   ]
  },
  {
   "cell_type": "code",
   "execution_count": 177,
   "metadata": {
    "collapsed": false
   },
   "outputs": [
    {
     "data": {
      "text/plain": [
       "0.0"
      ]
     },
     "execution_count": 177,
     "metadata": {},
     "output_type": "execute_result"
    },
    {
     "data": {
      "text/plain": [
       "array([0, 1], dtype=int64)"
      ]
     },
     "execution_count": 177,
     "metadata": {},
     "output_type": "execute_result"
    }
   ],
   "source": [
    "# Fill in BusinessAcceptsCreditCards column's na values with it's median value\n",
    "mdf['BusinessAcceptsCreditCards'].median()\n",
    "mdf['BusinessAcceptsCreditCards'] = mdf['BusinessAcceptsCreditCards'].replace('NaN', 0)\n",
    "mdf['BusinessAcceptsCreditCards'].unique()"
   ]
  },
  {
   "cell_type": "code",
   "execution_count": 178,
   "metadata": {
    "collapsed": false
   },
   "outputs": [
    {
     "data": {
      "text/plain": [
       "0.0"
      ]
     },
     "execution_count": 178,
     "metadata": {},
     "output_type": "execute_result"
    },
    {
     "data": {
      "text/plain": [
       "array([0, 1], dtype=int64)"
      ]
     },
     "execution_count": 178,
     "metadata": {},
     "output_type": "execute_result"
    }
   ],
   "source": [
    "# Fill in Open24Hours column's na values with it's median value\n",
    "mdf['Open24Hours'].median()\n",
    "mdf['Open24Hours'] = mdf['Open24Hours'].replace('NaN', 0)\n",
    "mdf['Open24Hours'].unique()"
   ]
  },
  {
   "cell_type": "code",
   "execution_count": 179,
   "metadata": {
    "collapsed": false
   },
   "outputs": [
    {
     "data": {
      "text/plain": [
       "1.0"
      ]
     },
     "execution_count": 179,
     "metadata": {},
     "output_type": "execute_result"
    },
    {
     "data": {
      "text/plain": [
       "array([1, 0], dtype=int64)"
      ]
     },
     "execution_count": 179,
     "metadata": {},
     "output_type": "execute_result"
    }
   ],
   "source": [
    "# Fill in BikeParking column's na values with it's median value\n",
    "mdf['BikeParking'].median()\n",
    "mdf['BikeParking'] = mdf['BikeParking'].replace('NaN', 1)\n",
    "mdf['BikeParking'].unique()"
   ]
  },
  {
   "cell_type": "code",
   "execution_count": 180,
   "metadata": {
    "collapsed": false
   },
   "outputs": [
    {
     "data": {
      "text/plain": [
       "1.0"
      ]
     },
     "execution_count": 180,
     "metadata": {},
     "output_type": "execute_result"
    },
    {
     "data": {
      "text/plain": [
       "array([1, 0], dtype=int64)"
      ]
     },
     "execution_count": 180,
     "metadata": {},
     "output_type": "execute_result"
    }
   ],
   "source": [
    "# Fill in Alcohol column's na values with it's median value\n",
    "mdf['Alcohol'].median()\n",
    "mdf['Alcohol'] = mdf['Alcohol'].replace('NaN', 1)\n",
    "mdf['Alcohol'].unique()"
   ]
  },
  {
   "cell_type": "code",
   "execution_count": 181,
   "metadata": {
    "collapsed": false
   },
   "outputs": [
    {
     "data": {
      "text/plain": [
       "0.0"
      ]
     },
     "execution_count": 181,
     "metadata": {},
     "output_type": "execute_result"
    },
    {
     "data": {
      "text/plain": [
       "array([0, 1], dtype=int64)"
      ]
     },
     "execution_count": 181,
     "metadata": {},
     "output_type": "execute_result"
    }
   ],
   "source": [
    "# Fill in DogsAllowed column's na values with it's median value\n",
    "mdf['DogsAllowed'].median()\n",
    "mdf['DogsAllowed'] = mdf['DogsAllowed'].replace('NaN', 0)\n",
    "mdf['DogsAllowed'].unique()"
   ]
  },
  {
   "cell_type": "code",
   "execution_count": 182,
   "metadata": {
    "collapsed": false
   },
   "outputs": [
    {
     "data": {
      "text/plain": [
       "array([1.0, 'Na', 0.0], dtype=object)"
      ]
     },
     "execution_count": 182,
     "metadata": {},
     "output_type": "execute_result"
    }
   ],
   "source": [
    "mdf['Parking'].unique()\n",
    "mdf.loc[mdf.Parking == 'Na', 'Parking'] = 'NaN'"
   ]
  },
  {
   "cell_type": "code",
   "execution_count": 183,
   "metadata": {
    "collapsed": false
   },
   "outputs": [
    {
     "data": {
      "text/plain": [
       "1.0"
      ]
     },
     "execution_count": 183,
     "metadata": {},
     "output_type": "execute_result"
    },
    {
     "data": {
      "text/plain": [
       "array([1, 0], dtype=int64)"
      ]
     },
     "execution_count": 183,
     "metadata": {},
     "output_type": "execute_result"
    }
   ],
   "source": [
    "# Fill in Parking column's na values with it's median value, then turning it into integer to get rid of the dot \n",
    "mdf['Parking'].median()\n",
    "mdf['Parking'] = mdf['Parking'].replace('NaN', 1)\n",
    "mdf['Parking'] = (mdf['Parking']).astype(int)\n",
    "mdf['Parking'].unique()"
   ]
  },
  {
   "cell_type": "markdown",
   "metadata": {},
   "source": [
    "## Part II: Overview of Businesses on Yelp\n",
    "\n"
   ]
  },
  {
   "cell_type": "code",
   "execution_count": 184,
   "metadata": {
    "collapsed": false
   },
   "outputs": [
    {
     "data": {
      "text/html": [
       "<div>\n",
       "<style>\n",
       "    .dataframe thead tr:only-child th {\n",
       "        text-align: right;\n",
       "    }\n",
       "\n",
       "    .dataframe thead th {\n",
       "        text-align: left;\n",
       "    }\n",
       "\n",
       "    .dataframe tbody tr th {\n",
       "        vertical-align: top;\n",
       "    }\n",
       "</style>\n",
       "<table border=\"1\" class=\"dataframe\">\n",
       "  <thead>\n",
       "    <tr style=\"text-align: right;\">\n",
       "      <th></th>\n",
       "      <th>Category</th>\n",
       "      <th>Count</th>\n",
       "    </tr>\n",
       "  </thead>\n",
       "  <tbody>\n",
       "    <tr>\n",
       "      <th>0</th>\n",
       "      <td>Restaurants</td>\n",
       "      <td>17332</td>\n",
       "    </tr>\n",
       "    <tr>\n",
       "      <th>1</th>\n",
       "      <td>Food</td>\n",
       "      <td>6882</td>\n",
       "    </tr>\n",
       "    <tr>\n",
       "      <th>2</th>\n",
       "      <td>Shopping</td>\n",
       "      <td>6701</td>\n",
       "    </tr>\n",
       "    <tr>\n",
       "      <th>3</th>\n",
       "      <td>Beauty &amp; Spas</td>\n",
       "      <td>5134</td>\n",
       "    </tr>\n",
       "    <tr>\n",
       "      <th>4</th>\n",
       "      <td>Home Services</td>\n",
       "      <td>3883</td>\n",
       "    </tr>\n",
       "    <tr>\n",
       "      <th>5</th>\n",
       "      <td>Health &amp; Medical</td>\n",
       "      <td>3540</td>\n",
       "    </tr>\n",
       "    <tr>\n",
       "      <th>6</th>\n",
       "      <td>Nightlife</td>\n",
       "      <td>2608</td>\n",
       "    </tr>\n",
       "    <tr>\n",
       "      <th>7</th>\n",
       "      <td>Local Services</td>\n",
       "      <td>2497</td>\n",
       "    </tr>\n",
       "    <tr>\n",
       "      <th>8</th>\n",
       "      <td>Automotive</td>\n",
       "      <td>2367</td>\n",
       "    </tr>\n",
       "    <tr>\n",
       "      <th>9</th>\n",
       "      <td>Bars</td>\n",
       "      <td>2147</td>\n",
       "    </tr>\n",
       "  </tbody>\n",
       "</table>\n",
       "</div>"
      ],
      "text/plain": [
       "           Category  Count\n",
       "0       Restaurants  17332\n",
       "1              Food   6882\n",
       "2          Shopping   6701\n",
       "3     Beauty & Spas   5134\n",
       "4     Home Services   3883\n",
       "5  Health & Medical   3540\n",
       "6         Nightlife   2608\n",
       "7    Local Services   2497\n",
       "8        Automotive   2367\n",
       "9              Bars   2147"
      ]
     },
     "execution_count": 184,
     "metadata": {},
     "output_type": "execute_result"
    }
   ],
   "source": [
    "#get the counts of each business category:\n",
    "mdf['categories'] = mdf.categories.str.partition(';')\n",
    "\n",
    "x=mdf.categories.value_counts()\n",
    "x10 = x.head(10)   #because we just want to plot the 10 most popular categories\n",
    "\n",
    "\n",
    "#convert back to dataframe so we can use seaborn later:\n",
    "x10 = x10.to_frame(name = 'count')\n",
    "\n",
    "#reset the index to convert categories to a column:\n",
    "x10.reset_index(level=0, inplace=True)\n",
    "\n",
    "x10.columns = ['Category', 'Count']\n",
    "x10"
   ]
  },
  {
   "cell_type": "code",
   "execution_count": 185,
   "metadata": {
    "collapsed": false,
    "scrolled": true
   },
   "outputs": [
    {
     "data": {
      "text/plain": [
       "<matplotlib.axes._subplots.AxesSubplot at 0xb1537b70>"
      ]
     },
     "execution_count": 185,
     "metadata": {},
     "output_type": "execute_result"
    },
    {
     "data": {
      "image/png": "[encoded data removed]",
      "text/plain": [
       "<matplotlib.figure.Figure at 0x94bc9588>"
      ]
     },
     "metadata": {},
     "output_type": "display_data"
    }
   ],
   "source": [
    "sns.barplot(y = \"Category\", x = \"Count\", data = x10)"
   ]
  },
  {
   "cell_type": "markdown",
   "metadata": {
    "collapsed": true
   },
   "source": [
    "Unsurprisingly, there are far more restaurants on Yelp than any other business type.  **Note:** The above method of getting categories is not the most accurate, since it only takes the first entry in the \"categories\" column and discards all the rest.  The following is a better method, using the category dummies created earlier. We will use this to get the total reviews for each of the top categories:"
   ]
  },
  {
   "cell_type": "code",
   "execution_count": 186,
   "metadata": {
    "collapsed": false
   },
   "outputs": [
    {
     "data": {
      "text/plain": [
       "3214770"
      ]
     },
     "execution_count": 186,
     "metadata": {},
     "output_type": "execute_result"
    },
    {
     "data": {
      "text/plain": [
       "377478"
      ]
     },
     "execution_count": 186,
     "metadata": {},
     "output_type": "execute_result"
    },
    {
     "data": {
      "text/plain": [
       "172519"
      ]
     },
     "execution_count": 186,
     "metadata": {},
     "output_type": "execute_result"
    },
    {
     "data": {
      "text/plain": [
       "875322"
      ]
     },
     "execution_count": 186,
     "metadata": {},
     "output_type": "execute_result"
    },
    {
     "data": {
      "text/plain": [
       "315099"
      ]
     },
     "execution_count": 186,
     "metadata": {},
     "output_type": "execute_result"
    },
    {
     "data": {
      "text/plain": [
       "<matplotlib.axes._subplots.AxesSubplot at 0xc5b91d30>"
      ]
     },
     "execution_count": 186,
     "metadata": {},
     "output_type": "execute_result"
    },
    {
     "data": {
      "image/png": "[encoded data removed]",
      "text/plain": [
       "<matplotlib.figure.Figure at 0xc5ba24e0>"
      ]
     },
     "metadata": {},
     "output_type": "display_data"
    }
   ],
   "source": [
    "#get category counts using category dummies\n",
    "mdf[mdf['Restaurants_dum'] == 1][\"review_count\"].sum()\n",
    "mdf[mdf['Shopping_dum'] == 1][\"review_count\"].sum()\n",
    "mdf[mdf['Health_dum'] == 1][\"review_count\"].sum()\n",
    "mdf[mdf['Nightlife_dum'] == 1][\"review_count\"].sum()\n",
    "mdf[mdf['Beauty_dum'] == 1][\"review_count\"].sum()\n",
    "\n",
    "#create a small df with these numbers:\n",
    "col1 = [\"Restaurants\", \"Shopping\", \"Health\", \"Nightlife\", \"Beauty\"]\n",
    "col2 = [3214770, 377478, 39487, 875322, 315099]\n",
    "\n",
    "mx = np.column_stack((col1, col2))\n",
    "\n",
    "rev_count = pd.DataFrame(mx)\n",
    "rev_count.columns = [\"Category\", \"Total Reviews\"]\n",
    "rev_count[\"Total Reviews\"] = pd.to_numeric(rev_count[\"Total Reviews\"])\n",
    "\n",
    "sns.set_style(\"whitegrid\")\n",
    "sns.barplot(y = \"Total Reviews\", x = \"Category\", data = rev_count, palette = \"Paired\")"
   ]
  },
  {
   "cell_type": "markdown",
   "metadata": {},
   "source": [
    "Again, the total reviews for restaurants is far greater than for all other categories, and the difference is even more pronounced for reviews than for number of businesses per category. This suggests that Yelp users may simply prefer reviewing restaurants more than other types of businesses."
   ]
  },
  {
   "cell_type": "markdown",
   "metadata": {},
   "source": [
    "Let's look at the average number of reviews and and average ratings for each of these top 10 categories, split between restaurants and non-restaurants so we can compare."
   ]
  },
  {
   "cell_type": "code",
   "execution_count": 187,
   "metadata": {
    "collapsed": false
   },
   "outputs": [
    {
     "data": {
      "text/plain": [
       "<seaborn.axisgrid.FacetGrid at 0xb714c6d8>"
      ]
     },
     "execution_count": 187,
     "metadata": {},
     "output_type": "execute_result"
    },
    {
     "data": {
      "image/png": "[encoded data removed]",
      "text/plain": [
       "<matplotlib.figure.Figure at 0xb71bb6a0>"
      ]
     },
     "metadata": {},
     "output_type": "display_data"
    }
   ],
   "source": [
    "sns.set_style(\"white\")\n",
    "\n",
    "sns.factorplot(x='stars',y='review_count',hue='Restaurants',data=mdf, palette = \"pastel\",\n",
    "              aspect =3)\n"
   ]
  },
  {
   "cell_type": "markdown",
   "metadata": {
    "collapsed": true
   },
   "source": [
    "This line graph validates the finding in the previous bar graph. Additionally, it shows that people tend to give a higher proportion of 4 and 5 star reviews for restaurants compared to non-restaurants, suggesting that reviewers are enthusiastic in reviewing restaurants they enjoyed dining at, but not so enthusiastic in reviewing other types of businesses.\n",
    "\n",
    "**Average rating for each major business category:**"
   ]
  },
  {
   "cell_type": "code",
   "execution_count": 188,
   "metadata": {
    "collapsed": false
   },
   "outputs": [
    {
     "data": {
      "text/plain": [
       "3.9546757762459586"
      ]
     },
     "execution_count": 188,
     "metadata": {},
     "output_type": "execute_result"
    },
    {
     "data": {
      "text/plain": [
       "3.8617270869598124"
      ]
     },
     "execution_count": 188,
     "metadata": {},
     "output_type": "execute_result"
    },
    {
     "data": {
      "text/plain": [
       "3.672145755128351"
      ]
     },
     "execution_count": 188,
     "metadata": {},
     "output_type": "execute_result"
    },
    {
     "data": {
      "text/plain": [
       "3.4613381297659864"
      ]
     },
     "execution_count": 188,
     "metadata": {},
     "output_type": "execute_result"
    },
    {
     "data": {
      "text/plain": [
       "3.5417263157894738"
      ]
     },
     "execution_count": 188,
     "metadata": {},
     "output_type": "execute_result"
    }
   ],
   "source": [
    "##Average ratings (number of stars) for each category of interest:\n",
    "\n",
    "mdf[mdf['Beauty_dum'] == 1][\"stars\"].mean()\n",
    "\n",
    "mdf[mdf['Health_dum'] == 1][\"stars\"].mean()\n",
    "\n",
    "mdf[mdf['Shopping_dum'] == 1][\"stars\"].mean()\n",
    "\n",
    "mdf[mdf['Restaurants_dum'] == 1][\"stars\"].mean()\n",
    "\n",
    "mdf[mdf['Nightlife_dum'] == 1][\"stars\"].mean()"
   ]
  },
  {
   "cell_type": "code",
   "execution_count": 189,
   "metadata": {
    "collapsed": false
   },
   "outputs": [
    {
     "data": {
      "text/plain": [
       "<matplotlib.axes._subplots.AxesSubplot at 0xbc92a898>"
      ]
     },
     "execution_count": 189,
     "metadata": {},
     "output_type": "execute_result"
    },
    {
     "data": {
      "image/png": "[encoded data removed]",
      "text/plain": [
       "<matplotlib.figure.Figure at 0xc53a1748>"
      ]
     },
     "metadata": {},
     "output_type": "display_data"
    }
   ],
   "source": [
    "##Create small df for average ratings by category:\n",
    "\n",
    "col3 = [\"Restaurants\", \"Shopping\", \"Health\", \"Nightlife\", \"Beauty\"]\n",
    "\n",
    "col4 = [3.46, 3.67, 3.77, 3.54, 3.95]\n",
    "\n",
    "mx2 = np.column_stack((col3, col4))\n",
    "\n",
    "avg_rating = pd.DataFrame(mx2)\n",
    "\n",
    "avg_rating.columns = [\"Category\", \"Avg Rating\"]\n",
    "\n",
    "avg_rating[\"Avg Rating\"] = pd.to_numeric(avg_rating[\"Avg Rating\"])\n",
    "\n",
    "sns.barplot(y = \"Avg Rating\", x = \"Category\", data = avg_rating, palette = \"GnBu_d\")"
   ]
  },
  {
   "cell_type": "markdown",
   "metadata": {
    "collapsed": true
   },
   "source": [
    "The above finding is quite interesting, especially when we compare it to the plot of total review counts by category. We find that **Restaurants has the lowest average rating**, even though it has the most number of reviews by far. Perhaps Yelp reviewers have higher expectations for restaurants and care more about their dining experiences.\n",
    "\n",
    "**Overall trends between the different variables:**\n",
    "\n",
    "We can create a correlation matrix and apply a heatmap to easily visualize trends."
   ]
  },
  {
   "cell_type": "code",
   "execution_count": 190,
   "metadata": {
    "collapsed": false
   },
   "outputs": [],
   "source": [
    "corr = mdf.corr()"
   ]
  },
  {
   "cell_type": "code",
   "execution_count": 191,
   "metadata": {
    "collapsed": false,
    "scrolled": true
   },
   "outputs": [
    {
     "data": {
      "text/plain": [
       "<matplotlib.axes._subplots.AxesSubplot at 0xb8dbd978>"
      ]
     },
     "execution_count": 191,
     "metadata": {},
     "output_type": "execute_result"
    },
    {
     "data": {
      "image/png": "[encoded data removed]",
      "text/plain": [
       "<matplotlib.figure.Figure at 0xbc914c88>"
      ]
     },
     "metadata": {},
     "output_type": "display_data"
    }
   ],
   "source": [
    "sns.heatmap(corr, annot = False, cmap = \"GnBu\", linewidths = 0.3)"
   ]
  },
  {
   "cell_type": "markdown",
   "metadata": {
    "collapsed": true
   },
   "source": [
    "Here we see several positive correlations (blue):\n",
    "\n",
    "    Restaurants and review count\n",
    "    Stars and Accepts Credit Cards\n",
    "    Restaurants and Dogs Allowed\n",
    "    Health-related business and Accepts Credit Cards\n",
    "\n",
    "And also some negative correlations (yellow-green):\n",
    "\n",
    "    Shopping and Restaurants\n",
    "    Restaurants and Parking -- this one is surprising! Perhaps many restaurants are in metropolitan areas where there's limited parking.\n",
    "    \n",
    "These correlations may provide insight to a business on the types of attributes that competitors (such as other restaurants) are offering.\n",
    "    "
   ]
  },
  {
   "cell_type": "markdown",
   "metadata": {},
   "source": [
    "**Locations of Yelp businesses**\n",
    "\n",
    "By city:"
   ]
  },
  {
   "cell_type": "code",
   "execution_count": 192,
   "metadata": {
    "collapsed": false
   },
   "outputs": [
    {
     "data": {
      "text/plain": [
       "[<matplotlib.text.Text at 0xb3df9c50>,\n",
       " <matplotlib.text.Text at 0xaec0f898>,\n",
       " <matplotlib.text.Text at 0xc46e59e8>,\n",
       " <matplotlib.text.Text at 0xc46dbf60>,\n",
       " <matplotlib.text.Text at 0xc46db4a8>,\n",
       " <matplotlib.text.Text at 0xc46d09e8>,\n",
       " <matplotlib.text.Text at 0xc46c3d30>,\n",
       " <matplotlib.text.Text at 0xc46c3208>,\n",
       " <matplotlib.text.Text at 0xaf0a03c8>,\n",
       " <matplotlib.text.Text at 0xaf0918d0>]"
      ]
     },
     "execution_count": 192,
     "metadata": {},
     "output_type": "execute_result"
    },
    {
     "data": {
      "text/plain": [
       "<matplotlib.text.Text at 0xaec04358>"
      ]
     },
     "execution_count": 192,
     "metadata": {},
     "output_type": "execute_result"
    },
    {
     "data": {
      "image/png": "[encoded data removed]",
      "text/plain": [
       "<matplotlib.figure.Figure at 0xa5a936d8>"
      ]
     },
     "metadata": {},
     "output_type": "display_data"
    }
   ],
   "source": [
    "#get the top 10 cities with most number of businesses:\n",
    "cities = mdf.groupby(\"city\")[\"business_id\"].count().sort_values(ascending = False).head(10)\n",
    "\n",
    "city = cities.index\n",
    "num_businesses = cities.get_values()\n",
    "\n",
    "#convert matrix to df:\n",
    "mx1 = np.column_stack((city, num_businesses))\n",
    "cities10 = pd.DataFrame(mx1)\n",
    "cities10.columns = [\"City\", \"Num_businesses\"]\n",
    "\n",
    "\n",
    "p = sns.barplot(y = \"Num_businesses\", x = \"City\", data = cities10, palette = \"Set3_d\")\n",
    "\n",
    "p.set_xticklabels(p.get_xticklabels(), rotation=45)\n",
    "p.set_title('Overall Business Locations')"
   ]
  },
  {
   "cell_type": "code",
   "execution_count": 193,
   "metadata": {
    "collapsed": false
   },
   "outputs": [
    {
     "data": {
      "text/html": [
       "<div>\n",
       "<style>\n",
       "    .dataframe thead tr:only-child th {\n",
       "        text-align: right;\n",
       "    }\n",
       "\n",
       "    .dataframe thead th {\n",
       "        text-align: left;\n",
       "    }\n",
       "\n",
       "    .dataframe tbody tr th {\n",
       "        vertical-align: top;\n",
       "    }\n",
       "</style>\n",
       "<table border=\"1\" class=\"dataframe\">\n",
       "  <thead>\n",
       "    <tr style=\"text-align: right;\">\n",
       "      <th></th>\n",
       "      <th>business_id</th>\n",
       "      <th>name</th>\n",
       "      <th>city</th>\n",
       "      <th>state</th>\n",
       "      <th>postal_code</th>\n",
       "      <th>latitude</th>\n",
       "      <th>longitude</th>\n",
       "      <th>stars</th>\n",
       "      <th>review_count</th>\n",
       "      <th>is_open</th>\n",
       "      <th>...</th>\n",
       "      <th>Restaurants</th>\n",
       "      <th>Restaurants_dum</th>\n",
       "      <th>Health</th>\n",
       "      <th>Health_dum</th>\n",
       "      <th>Shopping</th>\n",
       "      <th>Shopping_dum</th>\n",
       "      <th>Beauty</th>\n",
       "      <th>Beauty_dum</th>\n",
       "      <th>Nightlife</th>\n",
       "      <th>Nightlife_dum</th>\n",
       "    </tr>\n",
       "  </thead>\n",
       "  <tbody>\n",
       "    <tr>\n",
       "      <th>3</th>\n",
       "      <td>PfOCPjBrlQAnz__NXj9h_w</td>\n",
       "      <td>\"Brick House Tavern + Tap\"</td>\n",
       "      <td>Cuyahoga Falls</td>\n",
       "      <td>OH</td>\n",
       "      <td>44221</td>\n",
       "      <td>41.119535</td>\n",
       "      <td>-81.475690</td>\n",
       "      <td>3.5</td>\n",
       "      <td>116</td>\n",
       "      <td>1</td>\n",
       "      <td>...</td>\n",
       "      <td>True</td>\n",
       "      <td>1.0</td>\n",
       "      <td>False</td>\n",
       "      <td>0.0</td>\n",
       "      <td>False</td>\n",
       "      <td>0.0</td>\n",
       "      <td>False</td>\n",
       "      <td>0.0</td>\n",
       "      <td>True</td>\n",
       "      <td>1.0</td>\n",
       "    </tr>\n",
       "    <tr>\n",
       "      <th>4</th>\n",
       "      <td>o9eMRCWt5PkpLDE0gOPtcQ</td>\n",
       "      <td>\"Messina\"</td>\n",
       "      <td>Stuttgart</td>\n",
       "      <td>BW</td>\n",
       "      <td>70567</td>\n",
       "      <td>48.727200</td>\n",
       "      <td>9.147950</td>\n",
       "      <td>4.0</td>\n",
       "      <td>5</td>\n",
       "      <td>1</td>\n",
       "      <td>...</td>\n",
       "      <td>True</td>\n",
       "      <td>1.0</td>\n",
       "      <td>False</td>\n",
       "      <td>0.0</td>\n",
       "      <td>False</td>\n",
       "      <td>0.0</td>\n",
       "      <td>False</td>\n",
       "      <td>0.0</td>\n",
       "      <td>False</td>\n",
       "      <td>0.0</td>\n",
       "    </tr>\n",
       "    <tr>\n",
       "      <th>9</th>\n",
       "      <td>XOSRcvtaKc_Q5H1SAzN20A</td>\n",
       "      <td>\"East Coast Coffee\"</td>\n",
       "      <td>Houston</td>\n",
       "      <td>PA</td>\n",
       "      <td>15342</td>\n",
       "      <td>40.241548</td>\n",
       "      <td>-80.212815</td>\n",
       "      <td>4.5</td>\n",
       "      <td>3</td>\n",
       "      <td>0</td>\n",
       "      <td>...</td>\n",
       "      <td>True</td>\n",
       "      <td>1.0</td>\n",
       "      <td>False</td>\n",
       "      <td>0.0</td>\n",
       "      <td>False</td>\n",
       "      <td>0.0</td>\n",
       "      <td>False</td>\n",
       "      <td>0.0</td>\n",
       "      <td>False</td>\n",
       "      <td>0.0</td>\n",
       "    </tr>\n",
       "    <tr>\n",
       "      <th>13</th>\n",
       "      <td>fNMVV_ZX7CJSDWQGdOM8Nw</td>\n",
       "      <td>\"Showmars Government Center\"</td>\n",
       "      <td>Charlotte</td>\n",
       "      <td>NC</td>\n",
       "      <td>28202</td>\n",
       "      <td>35.221647</td>\n",
       "      <td>-80.839345</td>\n",
       "      <td>3.5</td>\n",
       "      <td>7</td>\n",
       "      <td>1</td>\n",
       "      <td>...</td>\n",
       "      <td>True</td>\n",
       "      <td>1.0</td>\n",
       "      <td>False</td>\n",
       "      <td>0.0</td>\n",
       "      <td>False</td>\n",
       "      <td>0.0</td>\n",
       "      <td>False</td>\n",
       "      <td>0.0</td>\n",
       "      <td>False</td>\n",
       "      <td>0.0</td>\n",
       "    </tr>\n",
       "    <tr>\n",
       "      <th>14</th>\n",
       "      <td>l09JfMeQ6ynYs5MCJtrcmQ</td>\n",
       "      <td>\"Alize Catering\"</td>\n",
       "      <td>Toronto</td>\n",
       "      <td>ON</td>\n",
       "      <td>M4P 2H6</td>\n",
       "      <td>43.711399</td>\n",
       "      <td>-79.399339</td>\n",
       "      <td>3.0</td>\n",
       "      <td>12</td>\n",
       "      <td>0</td>\n",
       "      <td>...</td>\n",
       "      <td>True</td>\n",
       "      <td>1.0</td>\n",
       "      <td>False</td>\n",
       "      <td>0.0</td>\n",
       "      <td>False</td>\n",
       "      <td>0.0</td>\n",
       "      <td>False</td>\n",
       "      <td>0.0</td>\n",
       "      <td>False</td>\n",
       "      <td>0.0</td>\n",
       "    </tr>\n",
       "  </tbody>\n",
       "</table>\n",
       "<p>5 rows × 34 columns</p>\n",
       "</div>"
      ],
      "text/plain": [
       "               business_id                          name            city  \\\n",
       "3   PfOCPjBrlQAnz__NXj9h_w    \"Brick House Tavern + Tap\"  Cuyahoga Falls   \n",
       "4   o9eMRCWt5PkpLDE0gOPtcQ                     \"Messina\"       Stuttgart   \n",
       "9   XOSRcvtaKc_Q5H1SAzN20A           \"East Coast Coffee\"         Houston   \n",
       "13  fNMVV_ZX7CJSDWQGdOM8Nw  \"Showmars Government Center\"       Charlotte   \n",
       "14  l09JfMeQ6ynYs5MCJtrcmQ              \"Alize Catering\"         Toronto   \n",
       "\n",
       "   state postal_code   latitude  longitude  stars  review_count  is_open  \\\n",
       "3     OH       44221  41.119535 -81.475690    3.5           116        1   \n",
       "4     BW       70567  48.727200   9.147950    4.0             5        1   \n",
       "9     PA       15342  40.241548 -80.212815    4.5             3        0   \n",
       "13    NC       28202  35.221647 -80.839345    3.5             7        1   \n",
       "14    ON     M4P 2H6  43.711399 -79.399339    3.0            12        0   \n",
       "\n",
       "        ...      Restaurants  Restaurants_dum Health Health_dum  Shopping  \\\n",
       "3       ...             True              1.0  False        0.0     False   \n",
       "4       ...             True              1.0  False        0.0     False   \n",
       "9       ...             True              1.0  False        0.0     False   \n",
       "13      ...             True              1.0  False        0.0     False   \n",
       "14      ...             True              1.0  False        0.0     False   \n",
       "\n",
       "    Shopping_dum Beauty Beauty_dum Nightlife Nightlife_dum  \n",
       "3            0.0  False        0.0      True           1.0  \n",
       "4            0.0  False        0.0     False           0.0  \n",
       "9            0.0  False        0.0     False           0.0  \n",
       "13           0.0  False        0.0     False           0.0  \n",
       "14           0.0  False        0.0     False           0.0  \n",
       "\n",
       "[5 rows x 34 columns]"
      ]
     },
     "execution_count": 193,
     "metadata": {},
     "output_type": "execute_result"
    }
   ],
   "source": [
    "#create df with restaurants only:\n",
    "mdfr = mdf[mdf['Restaurants_dum'] == 1]\n",
    "mdfr.head(5)\n"
   ]
  },
  {
   "cell_type": "code",
   "execution_count": 194,
   "metadata": {
    "collapsed": false
   },
   "outputs": [
    {
     "data": {
      "text/plain": [
       "[<matplotlib.text.Text at 0xc5fa6a90>,\n",
       " <matplotlib.text.Text at 0xc5f98320>,\n",
       " <matplotlib.text.Text at 0x99b14c50>,\n",
       " <matplotlib.text.Text at 0x99b14160>,\n",
       " <matplotlib.text.Text at 0x9a6f5128>,\n",
       " <matplotlib.text.Text at 0x9a6e8550>,\n",
       " <matplotlib.text.Text at 0x9a6ddb38>,\n",
       " <matplotlib.text.Text at 0xc5fd7d30>,\n",
       " <matplotlib.text.Text at 0xaf02ecc0>,\n",
       " <matplotlib.text.Text at 0xc48bd4a8>]"
      ]
     },
     "execution_count": 194,
     "metadata": {},
     "output_type": "execute_result"
    },
    {
     "data": {
      "text/plain": [
       "<matplotlib.text.Text at 0xc5fd73c8>"
      ]
     },
     "execution_count": 194,
     "metadata": {},
     "output_type": "execute_result"
    },
    {
     "data": {
      "image/png": "[encoded data removed]",
      "text/plain": [
       "<matplotlib.figure.Figure at 0xc48d7710>"
      ]
     },
     "metadata": {},
     "output_type": "display_data"
    }
   ],
   "source": [
    "#create df with restaurants only:\n",
    "mdfr = mdf[mdf['Restaurants_dum'] == 1]\n",
    "\n",
    "#get the top 10 cities with most number of restaurants:\n",
    "cities = mdfr.groupby(\"city\")[\"business_id\"].count().sort_values(ascending = False).head(10)\n",
    "\n",
    "city = cities.index\n",
    "num_rest = cities.get_values()\n",
    "\n",
    "#convert matrix to df:\n",
    "mx2 = np.column_stack((city, num_rest))\n",
    "cities10 = pd.DataFrame(mx2)\n",
    "cities10.columns = [\"City\", \"Num_restaurants\"]\n",
    "\n",
    "\n",
    "p = sns.barplot(y = \"Num_restaurants\", x = \"City\", data = cities10, palette = \"Set3\")\n",
    "\n",
    "p.set_xticklabels(p.get_xticklabels(), rotation=45)\n",
    "p.set_title('Restaurant Locations')"
   ]
  },
  {
   "cell_type": "markdown",
   "metadata": {},
   "source": [
    "Las Vegas, Toronto, and Phoenix have the greatest number of both total businesses and restaurants. These are also all major metropolitan cities so that makes sense.  Interestingly, Toronto has more restaurants than Vegas, but Vegas has more total businesses.  This suggests that Vegas has a more diverse range of businesses. It's important to note that this dataset only covers some, not nearly all, of the metropolitan areas in the selected countries. That's why cities like SF and New York are not included."
   ]
  },
  {
   "cell_type": "markdown",
   "metadata": {},
   "source": [
    "# Part III: Yelp Data Analytics for Restaurants"
   ]
  },
  {
   "cell_type": "markdown",
   "metadata": {},
   "source": [
    "**In this section, the analysis will focus on restaurants only since the majority of businesses in the data are restaurants.**"
   ]
  },
  {
   "cell_type": "markdown",
   "metadata": {},
   "source": [
    "**Distribution of restaurants by rating:**"
   ]
  },
  {
   "cell_type": "code",
   "execution_count": 195,
   "metadata": {
    "collapsed": false
   },
   "outputs": [
    {
     "data": {
      "text/plain": [
       "<seaborn.axisgrid.FacetGrid at 0xb3e04240>"
      ]
     },
     "execution_count": 195,
     "metadata": {},
     "output_type": "execute_result"
    },
    {
     "data": {
      "image/png": "[encoded data removed]",
      "text/plain": [
       "<matplotlib.figure.Figure at 0xc48a50f0>"
      ]
     },
     "metadata": {},
     "output_type": "display_data"
    }
   ],
   "source": [
    "gbstar= mdfr.groupby(['stars'], as_index=False).agg({'business_id':'count'})\n",
    "\n",
    "sns.factorplot(x='stars', y='business_id', data=gbstar, kind='bar')"
   ]
  },
  {
   "cell_type": "markdown",
   "metadata": {},
   "source": [
    "**Results:**\n",
    "\n",
    "1. From the plot you can see that number of review counts is highest for restaurants with 4 stars, and the distribution among ratings is skewed right.\n",
    "\n",
    "2. The numbers drop dramatically from 4 stars to 4.5, and from 4.5 to 5. So that means it's relatively easy to satisfy a customer (3.5-4 stars), but difficult to really impress them!\n",
    "\n",
    "3. The review and ratings distribution graphs suggest that perhaps people tend to review restaurants that they were more satisfied with.  However, more investigation is needed to determine whether its the number of reviews/popularity of a place that is causing higher ratings, or the other way around.\n"
   ]
  },
  {
   "cell_type": "markdown",
   "metadata": {},
   "source": [
    "**Most popular restaurants and their locations:**"
   ]
  },
  {
   "cell_type": "code",
   "execution_count": 196,
   "metadata": {
    "collapsed": false
   },
   "outputs": [
    {
     "data": {
      "text/html": [
       "<div>\n",
       "<style>\n",
       "    .dataframe thead tr:only-child th {\n",
       "        text-align: right;\n",
       "    }\n",
       "\n",
       "    .dataframe thead th {\n",
       "        text-align: left;\n",
       "    }\n",
       "\n",
       "    .dataframe tbody tr th {\n",
       "        vertical-align: top;\n",
       "    }\n",
       "</style>\n",
       "<table border=\"1\" class=\"dataframe\">\n",
       "  <thead>\n",
       "    <tr style=\"text-align: right;\">\n",
       "      <th></th>\n",
       "      <th>business_id</th>\n",
       "      <th>review_count</th>\n",
       "      <th>name</th>\n",
       "      <th>city</th>\n",
       "    </tr>\n",
       "  </thead>\n",
       "  <tbody>\n",
       "    <tr>\n",
       "      <th>0</th>\n",
       "      <td>4JNXUYY8wbaaDmk3BPzlWw</td>\n",
       "      <td>7361</td>\n",
       "      <td>\"Mon Ami Gabi\"</td>\n",
       "      <td>Las Vegas</td>\n",
       "    </tr>\n",
       "    <tr>\n",
       "      <th>1</th>\n",
       "      <td>RESDUcs7fIiihp38-d6_6g</td>\n",
       "      <td>7009</td>\n",
       "      <td>\"Bacchanal Buffet\"</td>\n",
       "      <td>Las Vegas</td>\n",
       "    </tr>\n",
       "    <tr>\n",
       "      <th>2</th>\n",
       "      <td>K7lWdNUhCbcnEvI0NhGewg</td>\n",
       "      <td>5950</td>\n",
       "      <td>\"Wicked Spoon\"</td>\n",
       "      <td>Las Vegas</td>\n",
       "    </tr>\n",
       "    <tr>\n",
       "      <th>3</th>\n",
       "      <td>cYwJA2A6I12KNkm2rtXd5g</td>\n",
       "      <td>5447</td>\n",
       "      <td>\"Gordon Ramsay BurGR\"</td>\n",
       "      <td>Las Vegas</td>\n",
       "    </tr>\n",
       "    <tr>\n",
       "      <th>4</th>\n",
       "      <td>DkYS3arLOhA8si5uUEmHOw</td>\n",
       "      <td>4869</td>\n",
       "      <td>\"Earl of Sandwich\"</td>\n",
       "      <td>Las Vegas</td>\n",
       "    </tr>\n",
       "    <tr>\n",
       "      <th>5</th>\n",
       "      <td>f4x1YBxkLrZg652xt2KR5g</td>\n",
       "      <td>4774</td>\n",
       "      <td>\"Hash House A Go Go\"</td>\n",
       "      <td>Las Vegas</td>\n",
       "    </tr>\n",
       "    <tr>\n",
       "      <th>6</th>\n",
       "      <td>2weQS-RnoOBhb1KsHKyoSQ</td>\n",
       "      <td>4018</td>\n",
       "      <td>\"The Buffet\"</td>\n",
       "      <td>Las Vegas</td>\n",
       "    </tr>\n",
       "    <tr>\n",
       "      <th>7</th>\n",
       "      <td>KskYqH1Bi7Z_61pH6Om8pg</td>\n",
       "      <td>3964</td>\n",
       "      <td>\"Lotus of Siam\"</td>\n",
       "      <td>Las Vegas</td>\n",
       "    </tr>\n",
       "    <tr>\n",
       "      <th>8</th>\n",
       "      <td>eoHdUeQDNgQ6WYEnP2aiRw</td>\n",
       "      <td>3910</td>\n",
       "      <td>\"Serendipity 3\"</td>\n",
       "      <td>Las Vegas</td>\n",
       "    </tr>\n",
       "    <tr>\n",
       "      <th>9</th>\n",
       "      <td>ujHiaprwCQ5ewziu0Vi9rw</td>\n",
       "      <td>3838</td>\n",
       "      <td>\"The Buffet at Bellagio\"</td>\n",
       "      <td>Las Vegas</td>\n",
       "    </tr>\n",
       "    <tr>\n",
       "      <th>10</th>\n",
       "      <td>iCQpiavjjPzJ5_3gPD5Ebg</td>\n",
       "      <td>3741</td>\n",
       "      <td>\"Secret Pizza\"</td>\n",
       "      <td>Las Vegas</td>\n",
       "    </tr>\n",
       "    <tr>\n",
       "      <th>11</th>\n",
       "      <td>rcaPajgKOJC2vo_l3xa42A</td>\n",
       "      <td>3570</td>\n",
       "      <td>\"Bouchon at the Venezia Tower\"</td>\n",
       "      <td>Las Vegas</td>\n",
       "    </tr>\n",
       "    <tr>\n",
       "      <th>12</th>\n",
       "      <td>El4FC8jcawUVgw_0EIcbaQ</td>\n",
       "      <td>3444</td>\n",
       "      <td>\"MGM Grand Hotel\"</td>\n",
       "      <td>Las Vegas</td>\n",
       "    </tr>\n",
       "    <tr>\n",
       "      <th>13</th>\n",
       "      <td>hihud--QRriCYZw1zZvW4g</td>\n",
       "      <td>3262</td>\n",
       "      <td>\"Gangnam Asian BBQ Dining\"</td>\n",
       "      <td>Las Vegas</td>\n",
       "    </tr>\n",
       "    <tr>\n",
       "      <th>14</th>\n",
       "      <td>7sPNbCx7vGAaH7SbNPZ6oA</td>\n",
       "      <td>3065</td>\n",
       "      <td>\"Bachi Burger\"</td>\n",
       "      <td>Las Vegas</td>\n",
       "    </tr>\n",
       "    <tr>\n",
       "      <th>15</th>\n",
       "      <td>g8OnV26ywJlZpezdBnOWUQ</td>\n",
       "      <td>3050</td>\n",
       "      <td>\"Hash House A Go Go\"</td>\n",
       "      <td>Las Vegas</td>\n",
       "    </tr>\n",
       "    <tr>\n",
       "      <th>16</th>\n",
       "      <td>XZbuPXdyA0ZtTu3AzqtQhg</td>\n",
       "      <td>3012</td>\n",
       "      <td>\"Mesa Grill\"</td>\n",
       "      <td>Las Vegas</td>\n",
       "    </tr>\n",
       "    <tr>\n",
       "      <th>17</th>\n",
       "      <td>OETh78qcgDltvHULowwhJg</td>\n",
       "      <td>2935</td>\n",
       "      <td>\"Gordon Ramsay Steak\"</td>\n",
       "      <td>Las Vegas</td>\n",
       "    </tr>\n",
       "    <tr>\n",
       "      <th>18</th>\n",
       "      <td>P7pxQFqr7yBKMMI2J51udw</td>\n",
       "      <td>2771</td>\n",
       "      <td>\"Holsteins Shakes and Buns\"</td>\n",
       "      <td>Las Vegas</td>\n",
       "    </tr>\n",
       "    <tr>\n",
       "      <th>19</th>\n",
       "      <td>XXW_OFaYQkkGOGniujZFHg</td>\n",
       "      <td>2703</td>\n",
       "      <td>\"The Peppermill Restaurant &amp; Fireside Lounge\"</td>\n",
       "      <td>Las Vegas</td>\n",
       "    </tr>\n",
       "  </tbody>\n",
       "</table>\n",
       "</div>"
      ],
      "text/plain": [
       "               business_id  review_count  \\\n",
       "0   4JNXUYY8wbaaDmk3BPzlWw          7361   \n",
       "1   RESDUcs7fIiihp38-d6_6g          7009   \n",
       "2   K7lWdNUhCbcnEvI0NhGewg          5950   \n",
       "3   cYwJA2A6I12KNkm2rtXd5g          5447   \n",
       "4   DkYS3arLOhA8si5uUEmHOw          4869   \n",
       "5   f4x1YBxkLrZg652xt2KR5g          4774   \n",
       "6   2weQS-RnoOBhb1KsHKyoSQ          4018   \n",
       "7   KskYqH1Bi7Z_61pH6Om8pg          3964   \n",
       "8   eoHdUeQDNgQ6WYEnP2aiRw          3910   \n",
       "9   ujHiaprwCQ5ewziu0Vi9rw          3838   \n",
       "10  iCQpiavjjPzJ5_3gPD5Ebg          3741   \n",
       "11  rcaPajgKOJC2vo_l3xa42A          3570   \n",
       "12  El4FC8jcawUVgw_0EIcbaQ          3444   \n",
       "13  hihud--QRriCYZw1zZvW4g          3262   \n",
       "14  7sPNbCx7vGAaH7SbNPZ6oA          3065   \n",
       "15  g8OnV26ywJlZpezdBnOWUQ          3050   \n",
       "16  XZbuPXdyA0ZtTu3AzqtQhg          3012   \n",
       "17  OETh78qcgDltvHULowwhJg          2935   \n",
       "18  P7pxQFqr7yBKMMI2J51udw          2771   \n",
       "19  XXW_OFaYQkkGOGniujZFHg          2703   \n",
       "\n",
       "                                             name       city  \n",
       "0                                  \"Mon Ami Gabi\"  Las Vegas  \n",
       "1                              \"Bacchanal Buffet\"  Las Vegas  \n",
       "2                                  \"Wicked Spoon\"  Las Vegas  \n",
       "3                           \"Gordon Ramsay BurGR\"  Las Vegas  \n",
       "4                              \"Earl of Sandwich\"  Las Vegas  \n",
       "5                            \"Hash House A Go Go\"  Las Vegas  \n",
       "6                                    \"The Buffet\"  Las Vegas  \n",
       "7                                 \"Lotus of Siam\"  Las Vegas  \n",
       "8                                 \"Serendipity 3\"  Las Vegas  \n",
       "9                        \"The Buffet at Bellagio\"  Las Vegas  \n",
       "10                                 \"Secret Pizza\"  Las Vegas  \n",
       "11                 \"Bouchon at the Venezia Tower\"  Las Vegas  \n",
       "12                              \"MGM Grand Hotel\"  Las Vegas  \n",
       "13                     \"Gangnam Asian BBQ Dining\"  Las Vegas  \n",
       "14                                 \"Bachi Burger\"  Las Vegas  \n",
       "15                           \"Hash House A Go Go\"  Las Vegas  \n",
       "16                                   \"Mesa Grill\"  Las Vegas  \n",
       "17                          \"Gordon Ramsay Steak\"  Las Vegas  \n",
       "18                    \"Holsteins Shakes and Buns\"  Las Vegas  \n",
       "19  \"The Peppermill Restaurant & Fireside Lounge\"  Las Vegas  "
      ]
     },
     "execution_count": 196,
     "metadata": {},
     "output_type": "execute_result"
    }
   ],
   "source": [
    "#mdfr[[\"business_id\", \"name\", \"city\", \"review_count\"]].groupby(\"business_id\").sum()\n",
    "\n",
    "gbr = mdfr[[\"business_id\", \"city\", \"review_count\"]].groupby(\"business_id\", as_index = False)[['review_count']].sum().nlargest(20, \"review_count\")\n",
    "\n",
    "#now we want the actual names and their locations:\n",
    "gbr2 = gbr.merge(mdfr[[\"business_id\", \"name\", \"city\"]], left_on = \"business_id\", right_on = \"business_id\")\n",
    "\n",
    "gbr2"
   ]
  },
  {
   "cell_type": "code",
   "execution_count": 197,
   "metadata": {
    "collapsed": false
   },
   "outputs": [
    {
     "data": {
      "text/plain": [
       "[<matplotlib.text.Text at 0xc4d956d8>,\n",
       " <matplotlib.text.Text at 0xc3c04b38>,\n",
       " <matplotlib.text.Text at 0x1c9a7860>,\n",
       " <matplotlib.text.Text at 0x1c99dac8>,\n",
       " <matplotlib.text.Text at 0x2126eef0>,\n",
       " <matplotlib.text.Text at 0x2126e4a8>,\n",
       " <matplotlib.text.Text at 0x21262668>,\n",
       " <matplotlib.text.Text at 0x21257828>,\n",
       " <matplotlib.text.Text at 0x2124ce48>,\n",
       " <matplotlib.text.Text at 0x2124c208>,\n",
       " <matplotlib.text.Text at 0x21241588>,\n",
       " <matplotlib.text.Text at 0x21233a90>,\n",
       " <matplotlib.text.Text at 0x21dd3dd8>,\n",
       " <matplotlib.text.Text at 0x21dd30f0>,\n",
       " <matplotlib.text.Text at 0x21dc9240>,\n",
       " <matplotlib.text.Text at 0x21dbd2e8>,\n",
       " <matplotlib.text.Text at 0x21daf748>,\n",
       " <matplotlib.text.Text at 0x21da6a90>,\n",
       " <matplotlib.text.Text at 0x2181bd30>]"
      ]
     },
     "execution_count": 197,
     "metadata": {},
     "output_type": "execute_result"
    },
    {
     "data": {
      "text/plain": [
       "<matplotlib.text.Text at 0xa660bc18>"
      ]
     },
     "execution_count": 197,
     "metadata": {},
     "output_type": "execute_result"
    },
    {
     "data": {
      "image/png": "[encoded data removed]",
      "text/plain": [
       "<matplotlib.figure.Figure at 0x22bf8be0>"
      ]
     },
     "metadata": {},
     "output_type": "display_data"
    }
   ],
   "source": [
    "#Visualize the above results:\n",
    "sns.set(style=\"whitegrid\")\n",
    "\n",
    "b = sns.barplot(y = \"review_count\", x = \"name\", data = gbr2, palette = \"Set3\")\n",
    "\n",
    "b.set_xticklabels(b.get_xticklabels(), rotation=90)\n",
    "b.set_title('Top Restaurants')\n",
    "\n"
   ]
  },
  {
   "cell_type": "markdown",
   "metadata": {},
   "source": [
    "**Which chain restaurants have the most locations?**"
   ]
  },
  {
   "cell_type": "code",
   "execution_count": 198,
   "metadata": {
    "collapsed": false
   },
   "outputs": [
    {
     "data": {
      "text/html": [
       "<div>\n",
       "<style>\n",
       "    .dataframe thead tr:only-child th {\n",
       "        text-align: right;\n",
       "    }\n",
       "\n",
       "    .dataframe thead th {\n",
       "        text-align: left;\n",
       "    }\n",
       "\n",
       "    .dataframe tbody tr th {\n",
       "        vertical-align: top;\n",
       "    }\n",
       "</style>\n",
       "<table border=\"1\" class=\"dataframe\">\n",
       "  <thead>\n",
       "    <tr style=\"text-align: right;\">\n",
       "      <th></th>\n",
       "      <th>name</th>\n",
       "      <th>business_id</th>\n",
       "    </tr>\n",
       "  </thead>\n",
       "  <tbody>\n",
       "    <tr>\n",
       "      <th>20137</th>\n",
       "      <td>\"McDonald's\"</td>\n",
       "      <td>671</td>\n",
       "    </tr>\n",
       "    <tr>\n",
       "      <th>30413</th>\n",
       "      <td>\"Subway\"</td>\n",
       "      <td>650</td>\n",
       "    </tr>\n",
       "    <tr>\n",
       "      <th>24927</th>\n",
       "      <td>\"Pizza Hut\"</td>\n",
       "      <td>296</td>\n",
       "    </tr>\n",
       "    <tr>\n",
       "      <th>31221</th>\n",
       "      <td>\"Taco Bell\"</td>\n",
       "      <td>285</td>\n",
       "    </tr>\n",
       "    <tr>\n",
       "      <th>4554</th>\n",
       "      <td>\"Burger King\"</td>\n",
       "      <td>282</td>\n",
       "    </tr>\n",
       "    <tr>\n",
       "      <th>36041</th>\n",
       "      <td>\"Wendy's\"</td>\n",
       "      <td>251</td>\n",
       "    </tr>\n",
       "    <tr>\n",
       "      <th>8947</th>\n",
       "      <td>\"Domino's Pizza\"</td>\n",
       "      <td>203</td>\n",
       "    </tr>\n",
       "    <tr>\n",
       "      <th>6768</th>\n",
       "      <td>\"Chipotle Mexican Grill\"</td>\n",
       "      <td>175</td>\n",
       "    </tr>\n",
       "    <tr>\n",
       "      <th>15742</th>\n",
       "      <td>\"KFC\"</td>\n",
       "      <td>158</td>\n",
       "    </tr>\n",
       "    <tr>\n",
       "      <th>23495</th>\n",
       "      <td>\"Panera Bread\"</td>\n",
       "      <td>155</td>\n",
       "    </tr>\n",
       "  </tbody>\n",
       "</table>\n",
       "</div>"
      ],
      "text/plain": [
       "                           name  business_id\n",
       "20137              \"McDonald's\"          671\n",
       "30413                  \"Subway\"          650\n",
       "24927               \"Pizza Hut\"          296\n",
       "31221               \"Taco Bell\"          285\n",
       "4554              \"Burger King\"          282\n",
       "36041                 \"Wendy's\"          251\n",
       "8947           \"Domino's Pizza\"          203\n",
       "6768   \"Chipotle Mexican Grill\"          175\n",
       "15742                     \"KFC\"          158\n",
       "23495            \"Panera Bread\"          155"
      ]
     },
     "execution_count": 198,
     "metadata": {},
     "output_type": "execute_result"
    }
   ],
   "source": [
    "mdfrg = mdfr.groupby(\"name\").agg({\"business_id\": \"count\"})\n",
    "\n",
    "mdfrg.reset_index(level = 0, inplace = True)\n",
    "\n",
    "mdfrg.nlargest(10, \"business_id\")"
   ]
  },
  {
   "cell_type": "markdown",
   "metadata": {},
   "source": [
    "Let's choose Panera Bread to do further analysis on, since it's not a fast food place like the other top chain places. How popular is Panera Bread in the US vs. outside the US?"
   ]
  },
  {
   "cell_type": "code",
   "execution_count": 199,
   "metadata": {
    "collapsed": false
   },
   "outputs": [
    {
     "data": {
      "text/html": [
       "<div>\n",
       "<style>\n",
       "    .dataframe thead tr:only-child th {\n",
       "        text-align: right;\n",
       "    }\n",
       "\n",
       "    .dataframe thead th {\n",
       "        text-align: left;\n",
       "    }\n",
       "\n",
       "    .dataframe tbody tr th {\n",
       "        vertical-align: top;\n",
       "    }\n",
       "</style>\n",
       "<table border=\"1\" class=\"dataframe\">\n",
       "  <thead>\n",
       "    <tr style=\"text-align: right;\">\n",
       "      <th></th>\n",
       "      <th>business_id</th>\n",
       "      <th>name</th>\n",
       "      <th>city</th>\n",
       "      <th>state</th>\n",
       "      <th>postal_code</th>\n",
       "      <th>latitude</th>\n",
       "      <th>longitude</th>\n",
       "      <th>stars</th>\n",
       "      <th>review_count</th>\n",
       "      <th>is_open</th>\n",
       "      <th>...</th>\n",
       "      <th>Health</th>\n",
       "      <th>Health_dum</th>\n",
       "      <th>Shopping</th>\n",
       "      <th>Shopping_dum</th>\n",
       "      <th>Beauty</th>\n",
       "      <th>Beauty_dum</th>\n",
       "      <th>Nightlife</th>\n",
       "      <th>Nightlife_dum</th>\n",
       "      <th>US</th>\n",
       "      <th>Panera</th>\n",
       "    </tr>\n",
       "  </thead>\n",
       "  <tbody>\n",
       "    <tr>\n",
       "      <th>3</th>\n",
       "      <td>PfOCPjBrlQAnz__NXj9h_w</td>\n",
       "      <td>\"Brick House Tavern + Tap\"</td>\n",
       "      <td>Cuyahoga Falls</td>\n",
       "      <td>OH</td>\n",
       "      <td>44221</td>\n",
       "      <td>41.119535</td>\n",
       "      <td>-81.475690</td>\n",
       "      <td>3.5</td>\n",
       "      <td>116</td>\n",
       "      <td>1</td>\n",
       "      <td>...</td>\n",
       "      <td>False</td>\n",
       "      <td>0.0</td>\n",
       "      <td>False</td>\n",
       "      <td>0.0</td>\n",
       "      <td>False</td>\n",
       "      <td>0.0</td>\n",
       "      <td>True</td>\n",
       "      <td>1.0</td>\n",
       "      <td>1</td>\n",
       "      <td>0</td>\n",
       "    </tr>\n",
       "    <tr>\n",
       "      <th>4</th>\n",
       "      <td>o9eMRCWt5PkpLDE0gOPtcQ</td>\n",
       "      <td>\"Messina\"</td>\n",
       "      <td>Stuttgart</td>\n",
       "      <td>BW</td>\n",
       "      <td>70567</td>\n",
       "      <td>48.727200</td>\n",
       "      <td>9.147950</td>\n",
       "      <td>4.0</td>\n",
       "      <td>5</td>\n",
       "      <td>1</td>\n",
       "      <td>...</td>\n",
       "      <td>False</td>\n",
       "      <td>0.0</td>\n",
       "      <td>False</td>\n",
       "      <td>0.0</td>\n",
       "      <td>False</td>\n",
       "      <td>0.0</td>\n",
       "      <td>False</td>\n",
       "      <td>0.0</td>\n",
       "      <td>0</td>\n",
       "      <td>0</td>\n",
       "    </tr>\n",
       "    <tr>\n",
       "      <th>9</th>\n",
       "      <td>XOSRcvtaKc_Q5H1SAzN20A</td>\n",
       "      <td>\"East Coast Coffee\"</td>\n",
       "      <td>Houston</td>\n",
       "      <td>PA</td>\n",
       "      <td>15342</td>\n",
       "      <td>40.241548</td>\n",
       "      <td>-80.212815</td>\n",
       "      <td>4.5</td>\n",
       "      <td>3</td>\n",
       "      <td>0</td>\n",
       "      <td>...</td>\n",
       "      <td>False</td>\n",
       "      <td>0.0</td>\n",
       "      <td>False</td>\n",
       "      <td>0.0</td>\n",
       "      <td>False</td>\n",
       "      <td>0.0</td>\n",
       "      <td>False</td>\n",
       "      <td>0.0</td>\n",
       "      <td>1</td>\n",
       "      <td>0</td>\n",
       "    </tr>\n",
       "  </tbody>\n",
       "</table>\n",
       "<p>3 rows × 36 columns</p>\n",
       "</div>"
      ],
      "text/plain": [
       "              business_id                        name            city state  \\\n",
       "3  PfOCPjBrlQAnz__NXj9h_w  \"Brick House Tavern + Tap\"  Cuyahoga Falls    OH   \n",
       "4  o9eMRCWt5PkpLDE0gOPtcQ                   \"Messina\"       Stuttgart    BW   \n",
       "9  XOSRcvtaKc_Q5H1SAzN20A         \"East Coast Coffee\"         Houston    PA   \n",
       "\n",
       "  postal_code   latitude  longitude  stars  review_count  is_open  ...    \\\n",
       "3       44221  41.119535 -81.475690    3.5           116        1  ...     \n",
       "4       70567  48.727200   9.147950    4.0             5        1  ...     \n",
       "9       15342  40.241548 -80.212815    4.5             3        0  ...     \n",
       "\n",
       "  Health  Health_dum Shopping Shopping_dum  Beauty  Beauty_dum Nightlife  \\\n",
       "3  False         0.0    False          0.0   False         0.0      True   \n",
       "4  False         0.0    False          0.0   False         0.0     False   \n",
       "9  False         0.0    False          0.0   False         0.0     False   \n",
       "\n",
       "  Nightlife_dum US Panera  \n",
       "3           1.0  1      0  \n",
       "4           0.0  0      0  \n",
       "9           0.0  1      0  \n",
       "\n",
       "[3 rows x 36 columns]"
      ]
     },
     "execution_count": 199,
     "metadata": {},
     "output_type": "execute_result"
    }
   ],
   "source": [
    "states = [\"AL\", \"AK\", \"AZ\", \"AR\", \"CA\", \"CO\", \"CT\", \"DC\", \"DE\", \"FL\", \"GA\", \n",
    "          \"HI\", \"ID\", \"IL\", \"IN\", \"IA\", \"KS\", \"KY\", \"LA\", \"ME\", \"MD\", \n",
    "          \"MA\", \"MI\", \"MN\", \"MS\", \"MO\", \"MT\", \"NE\", \"NV\", \"NH\", \"NJ\", \n",
    "          \"NM\", \"NY\", \"NC\", \"ND\", \"OH\", \"OK\", \"OR\", \"PA\", \"RI\", \"SC\", \n",
    "          \"SD\", \"TN\", \"TX\", \"UT\", \"VT\", \"VA\", \"WA\", \"WV\", \"WI\", \"WY\"]\n",
    "\n",
    "US_states=set(states).intersection(mdfr.state)\n",
    "\n",
    "mdfr['US'] = mdfr.state.isin(US_states).astype(int)\n",
    "mdfr['Panera']=mdfr['name'].str.contains('Panera').astype(int)\n",
    "\n",
    "mdfr.head(3)"
   ]
  },
  {
   "cell_type": "code",
   "execution_count": 200,
   "metadata": {
    "collapsed": false
   },
   "outputs": [
    {
     "data": {
      "text/plain": [
       "157"
      ]
     },
     "execution_count": 200,
     "metadata": {},
     "output_type": "execute_result"
    }
   ],
   "source": [
    "p_mdfr = mdfr[mdfr['Panera']==1]\n",
    "len(p_mdfr)"
   ]
  },
  {
   "cell_type": "code",
   "execution_count": 201,
   "metadata": {
    "collapsed": false
   },
   "outputs": [
    {
     "data": {
      "text/plain": [
       "<seaborn.axisgrid.FacetGrid at 0x21da61d0>"
      ]
     },
     "execution_count": 201,
     "metadata": {},
     "output_type": "execute_result"
    },
    {
     "data": {
      "image/png": "[encoded data removed]",
      "text/plain": [
       "<matplotlib.figure.Figure at 0x21257550>"
      ]
     },
     "metadata": {},
     "output_type": "display_data"
    }
   ],
   "source": [
    "sns.factorplot(x='US', y = \"stars\", kind='bar', data=p_mdfr,\n",
    "              aspect =1)"
   ]
  },
  {
   "cell_type": "code",
   "execution_count": 202,
   "metadata": {
    "collapsed": false
   },
   "outputs": [],
   "source": [
    "#Get number of Panera Bread locations in vs. outside the US:\n",
    "\n",
    "print \"In the US: \" + str(len(p_mdfr[p_mdfr['US']==1]))\n",
    "print \"Outside the US: \" + str(len(p_mdfr[p_mdfr['US']==0]))"
   ]
  },
  {
   "cell_type": "markdown",
   "metadata": {
    "collapsed": true
   },
   "source": [
    "The bar graph above shows that Panera Bread has worse average ratings within the US.  However, the Panera Bread data is very unbalanced since most locations are within the US, leading to biased results. Either way, we can see that the average rating in the US is very low, below 3 stars, **so one recommendation would be to improve either the food or customer experience in US locations.**  Further analysis can be done to determine what is actually causing these poor ratings."
   ]
  },
  {
   "cell_type": "markdown",
   "metadata": {},
   "source": [
    "**For more information, merged two more datasets to the master df: yelp_checkin and yelp_tip**\n",
    "\n",
    "Yelp _checkin data_ has number of checkins in each day of the week. Yelp _tip data_ has mainly tip comments of different users for business ids.\n",
    "\n",
    "For yelp_checkin, each row represents a business, whereas the columns report:\n",
    "\n",
    "    business_id: unique business_id\n",
    "    weekday: day of the week\n",
    "    hour: time of the day\n",
    "    checkins: number of checkin each day\n",
    "\n",
    "For yelp_checkin, each row represents a business, whereas the columns report:\n",
    "\n",
    "    text: tip comment\n",
    "    date\n",
    "    likes: number of likes\n",
    "    business_id: unique business_id\n",
    "    user_id: unique business_id"
   ]
  },
  {
   "cell_type": "code",
   "execution_count": 203,
   "metadata": {
    "collapsed": false
   },
   "outputs": [
    {
     "data": {
      "text/html": [
       "<div>\n",
       "<style>\n",
       "    .dataframe thead tr:only-child th {\n",
       "        text-align: right;\n",
       "    }\n",
       "\n",
       "    .dataframe thead th {\n",
       "        text-align: left;\n",
       "    }\n",
       "\n",
       "    .dataframe tbody tr th {\n",
       "        vertical-align: top;\n",
       "    }\n",
       "</style>\n",
       "<table border=\"1\" class=\"dataframe\">\n",
       "  <thead>\n",
       "    <tr style=\"text-align: right;\">\n",
       "      <th></th>\n",
       "      <th>business_id</th>\n",
       "      <th>weekday</th>\n",
       "      <th>hour</th>\n",
       "      <th>checkins</th>\n",
       "    </tr>\n",
       "  </thead>\n",
       "  <tbody>\n",
       "    <tr>\n",
       "      <th>0</th>\n",
       "      <td>3Mc-LxcqeguOXOVT_2ZtCg</td>\n",
       "      <td>Tue</td>\n",
       "      <td>0:00</td>\n",
       "      <td>12</td>\n",
       "    </tr>\n",
       "    <tr>\n",
       "      <th>1</th>\n",
       "      <td>SVFx6_epO22bZTZnKwlX7g</td>\n",
       "      <td>Wed</td>\n",
       "      <td>0:00</td>\n",
       "      <td>4</td>\n",
       "    </tr>\n",
       "    <tr>\n",
       "      <th>2</th>\n",
       "      <td>vW9aLivd4-IorAfStzsHww</td>\n",
       "      <td>Tue</td>\n",
       "      <td>14:00</td>\n",
       "      <td>1</td>\n",
       "    </tr>\n",
       "  </tbody>\n",
       "</table>\n",
       "</div>"
      ],
      "text/plain": [
       "              business_id weekday   hour  checkins\n",
       "0  3Mc-LxcqeguOXOVT_2ZtCg     Tue   0:00        12\n",
       "1  SVFx6_epO22bZTZnKwlX7g     Wed   0:00         4\n",
       "2  vW9aLivd4-IorAfStzsHww     Tue  14:00         1"
      ]
     },
     "execution_count": 203,
     "metadata": {},
     "output_type": "execute_result"
    }
   ],
   "source": [
    "checkin = pd.read_csv(\"yelp_checkin.csv\")\n",
    "\n",
    "checkin.head(3)"
   ]
  },
  {
   "cell_type": "code",
   "execution_count": 204,
   "metadata": {
    "collapsed": false
   },
   "outputs": [],
   "source": [
    "\n",
    "#Get the total number of checkins for each business: \n",
    "checkin1=checkin.groupby(['business_id'],as_index=False)['checkins'].sum()\n",
    "\n",
    "#mdf2[[\"business_id\", \"name\", \"checkins\", \"city\"]].nlargest(10, \"checkins\")\n",
    "#Surprisingly, it's mostly airports and fancy hotels that get the most checkins!  \n",
    "#This suggests that Yelp users use each feature (checkins vs. reviewing) for very different purposes.'''"
   ]
  },
  {
   "cell_type": "markdown",
   "metadata": {},
   "source": [
    "Which are the peak days for the top restaurant in the dataset, Mon Ami Gabi?"
   ]
  },
  {
   "cell_type": "code",
   "execution_count": 205,
   "metadata": {
    "collapsed": false
   },
   "outputs": [
    {
     "data": {
      "text/html": [
       "<div>\n",
       "<style>\n",
       "    .dataframe thead tr:only-child th {\n",
       "        text-align: right;\n",
       "    }\n",
       "\n",
       "    .dataframe thead th {\n",
       "        text-align: left;\n",
       "    }\n",
       "\n",
       "    .dataframe tbody tr th {\n",
       "        vertical-align: top;\n",
       "    }\n",
       "</style>\n",
       "<table border=\"1\" class=\"dataframe\">\n",
       "  <thead>\n",
       "    <tr style=\"text-align: right;\">\n",
       "      <th></th>\n",
       "      <th>checkins</th>\n",
       "    </tr>\n",
       "    <tr>\n",
       "      <th>weekday</th>\n",
       "      <th></th>\n",
       "    </tr>\n",
       "  </thead>\n",
       "  <tbody>\n",
       "    <tr>\n",
       "      <th>Fri</th>\n",
       "      <td>2421</td>\n",
       "    </tr>\n",
       "    <tr>\n",
       "      <th>Mon</th>\n",
       "      <td>2590</td>\n",
       "    </tr>\n",
       "    <tr>\n",
       "      <th>Sat</th>\n",
       "      <td>4330</td>\n",
       "    </tr>\n",
       "    <tr>\n",
       "      <th>Sun</th>\n",
       "      <td>4821</td>\n",
       "    </tr>\n",
       "    <tr>\n",
       "      <th>Thu</th>\n",
       "      <td>1728</td>\n",
       "    </tr>\n",
       "    <tr>\n",
       "      <th>Tue</th>\n",
       "      <td>1684</td>\n",
       "    </tr>\n",
       "    <tr>\n",
       "      <th>Wed</th>\n",
       "      <td>1564</td>\n",
       "    </tr>\n",
       "  </tbody>\n",
       "</table>\n",
       "</div>"
      ],
      "text/plain": [
       "         checkins\n",
       "weekday          \n",
       "Fri          2421\n",
       "Mon          2590\n",
       "Sat          4330\n",
       "Sun          4821\n",
       "Thu          1728\n",
       "Tue          1684\n",
       "Wed          1564"
      ]
     },
     "execution_count": 205,
     "metadata": {},
     "output_type": "execute_result"
    }
   ],
   "source": [
    "mgb = checkin[checkin[\"business_id\"] == \"4JNXUYY8wbaaDmk3BPzlWw\"].groupby(\"weekday\").agg({\"checkins\": \"sum\"})\n",
    "mgb"
   ]
  },
  {
   "cell_type": "code",
   "execution_count": 206,
   "metadata": {
    "collapsed": false
   },
   "outputs": [
    {
     "data": {
      "text/plain": [
       "<matplotlib.axes._subplots.AxesSubplot at 0xc8f920f0>"
      ]
     },
     "execution_count": 206,
     "metadata": {},
     "output_type": "execute_result"
    },
    {
     "data": {
      "image/png": "[encoded data removed]",
      "text/plain": [
       "<matplotlib.figure.Figure at 0xc854e908>"
      ]
     },
     "metadata": {},
     "output_type": "display_data"
    }
   ],
   "source": [
    "#visualize the above:\n",
    "mgb.reset_index(level=0, inplace=True)\n",
    "\n",
    "sns.barplot(x = \"checkins\", y = \"weekday\", data = mgb, palette = \"Set2\")\n",
    "\n"
   ]
  },
  {
   "cell_type": "markdown",
   "metadata": {},
   "source": [
    "**Create a weekly timetable of checkins for Mon Ami Gabi:**"
   ]
  },
  {
   "cell_type": "code",
   "execution_count": 207,
   "metadata": {
    "collapsed": true
   },
   "outputs": [],
   "source": [
    "dft =checkin.groupby(['weekday','hour'])['checkins'].sum()\n",
    "dft =dft.reset_index()\n",
    "dft =dft.pivot(index='hour',columns='weekday')[['checkins']]\n",
    "dft.columns = dft.columns.droplevel()\n",
    "dft =dft.reset_index()"
   ]
  },
  {
   "cell_type": "code",
   "execution_count": 208,
   "metadata": {
    "collapsed": false
   },
   "outputs": [
    {
     "data": {
      "text/html": [
       "<style  type=\"text/css\" >\n",
       "    #T_6c4e2a40_2c83_11e8_a2af_dc536059670crow0_col1 {\n",
       "            background-color:  yellow;\n",
       "        }    #T_6c4e2a40_2c83_11e8_a2af_dc536059670crow1_col2 {\n",
       "            background-color:  yellow;\n",
       "        }    #T_6c4e2a40_2c83_11e8_a2af_dc536059670crow1_col3 {\n",
       "            background-color:  yellow;\n",
       "        }    #T_6c4e2a40_2c83_11e8_a2af_dc536059670crow1_col4 {\n",
       "            background-color:  yellow;\n",
       "        }    #T_6c4e2a40_2c83_11e8_a2af_dc536059670crow1_col7 {\n",
       "            background-color:  yellow;\n",
       "        }    #T_6c4e2a40_2c83_11e8_a2af_dc536059670crow19_col5 {\n",
       "            background-color:  yellow;\n",
       "        }    #T_6c4e2a40_2c83_11e8_a2af_dc536059670crow19_col6 {\n",
       "            background-color:  yellow;\n",
       "        }    #T_6c4e2a40_2c83_11e8_a2af_dc536059670crow23_col0 {\n",
       "            background-color:  yellow;\n",
       "        }</style>  \n",
       "<table id=\"T_6c4e2a40_2c83_11e8_a2af_dc536059670c\" > \n",
       "<thead>    <tr> \n",
       "        <th class=\"index_name level0\" >weekday</th> \n",
       "        <th class=\"col_heading level0 col0\" >hour</th> \n",
       "        <th class=\"col_heading level0 col1\" >Mon</th> \n",
       "        <th class=\"col_heading level0 col2\" >Tue</th> \n",
       "        <th class=\"col_heading level0 col3\" >Wed</th> \n",
       "        <th class=\"col_heading level0 col4\" >Thu</th> \n",
       "        <th class=\"col_heading level0 col5\" >Fri</th> \n",
       "        <th class=\"col_heading level0 col6\" >Sat</th> \n",
       "        <th class=\"col_heading level0 col7\" >Sun</th> \n",
       "    </tr></thead> \n",
       "<tbody>    <tr> \n",
       "        <th id=\"T_6c4e2a40_2c83_11e8_a2af_dc536059670clevel0_row0\" class=\"row_heading level0 row0\" >0</th> \n",
       "        <td id=\"T_6c4e2a40_2c83_11e8_a2af_dc536059670crow0_col0\" class=\"data row0 col0\" >0</td> \n",
       "        <td id=\"T_6c4e2a40_2c83_11e8_a2af_dc536059670crow0_col1\" class=\"data row0 col1\" >163336</td> \n",
       "        <td id=\"T_6c4e2a40_2c83_11e8_a2af_dc536059670crow0_col2\" class=\"data row0 col2\" >156195</td> \n",
       "        <td id=\"T_6c4e2a40_2c83_11e8_a2af_dc536059670crow0_col3\" class=\"data row0 col3\" >166254</td> \n",
       "        <td id=\"T_6c4e2a40_2c83_11e8_a2af_dc536059670crow0_col4\" class=\"data row0 col4\" >171669</td> \n",
       "        <td id=\"T_6c4e2a40_2c83_11e8_a2af_dc536059670crow0_col5\" class=\"data row0 col5\" >178666</td> \n",
       "        <td id=\"T_6c4e2a40_2c83_11e8_a2af_dc536059670crow0_col6\" class=\"data row0 col6\" >224425</td> \n",
       "        <td id=\"T_6c4e2a40_2c83_11e8_a2af_dc536059670crow0_col7\" class=\"data row0 col7\" >225209</td> \n",
       "    </tr>    <tr> \n",
       "        <th id=\"T_6c4e2a40_2c83_11e8_a2af_dc536059670clevel0_row1\" class=\"row_heading level0 row1\" >11</th> \n",
       "        <td id=\"T_6c4e2a40_2c83_11e8_a2af_dc536059670crow1_col0\" class=\"data row1 col0\" >1</td> \n",
       "        <td id=\"T_6c4e2a40_2c83_11e8_a2af_dc536059670crow1_col1\" class=\"data row1 col1\" >161168</td> \n",
       "        <td id=\"T_6c4e2a40_2c83_11e8_a2af_dc536059670crow1_col2\" class=\"data row1 col2\" >162632</td> \n",
       "        <td id=\"T_6c4e2a40_2c83_11e8_a2af_dc536059670crow1_col3\" class=\"data row1 col3\" >174696</td> \n",
       "        <td id=\"T_6c4e2a40_2c83_11e8_a2af_dc536059670crow1_col4\" class=\"data row1 col4\" >181712</td> \n",
       "        <td id=\"T_6c4e2a40_2c83_11e8_a2af_dc536059670crow1_col5\" class=\"data row1 col5\" >190371</td> \n",
       "        <td id=\"T_6c4e2a40_2c83_11e8_a2af_dc536059670crow1_col6\" class=\"data row1 col6\" >245453</td> \n",
       "        <td id=\"T_6c4e2a40_2c83_11e8_a2af_dc536059670crow1_col7\" class=\"data row1 col7\" >235295</td> \n",
       "    </tr>    <tr> \n",
       "        <th id=\"T_6c4e2a40_2c83_11e8_a2af_dc536059670clevel0_row2\" class=\"row_heading level0 row2\" >16</th> \n",
       "        <td id=\"T_6c4e2a40_2c83_11e8_a2af_dc536059670crow2_col0\" class=\"data row2 col0\" >2</td> \n",
       "        <td id=\"T_6c4e2a40_2c83_11e8_a2af_dc536059670crow2_col1\" class=\"data row2 col1\" >140252</td> \n",
       "        <td id=\"T_6c4e2a40_2c83_11e8_a2af_dc536059670crow2_col2\" class=\"data row2 col2\" >141732</td> \n",
       "        <td id=\"T_6c4e2a40_2c83_11e8_a2af_dc536059670crow2_col3\" class=\"data row2 col3\" >153923</td> \n",
       "        <td id=\"T_6c4e2a40_2c83_11e8_a2af_dc536059670crow2_col4\" class=\"data row2 col4\" >160906</td> \n",
       "        <td id=\"T_6c4e2a40_2c83_11e8_a2af_dc536059670crow2_col5\" class=\"data row2 col5\" >169989</td> \n",
       "        <td id=\"T_6c4e2a40_2c83_11e8_a2af_dc536059670crow2_col6\" class=\"data row2 col6\" >236195</td> \n",
       "        <td id=\"T_6c4e2a40_2c83_11e8_a2af_dc536059670crow2_col7\" class=\"data row2 col7\" >224716</td> \n",
       "    </tr>    <tr> \n",
       "        <th id=\"T_6c4e2a40_2c83_11e8_a2af_dc536059670clevel0_row3\" class=\"row_heading level0 row3\" >17</th> \n",
       "        <td id=\"T_6c4e2a40_2c83_11e8_a2af_dc536059670crow3_col0\" class=\"data row3 col0\" >3</td> \n",
       "        <td id=\"T_6c4e2a40_2c83_11e8_a2af_dc536059670crow3_col1\" class=\"data row3 col1\" >106422</td> \n",
       "        <td id=\"T_6c4e2a40_2c83_11e8_a2af_dc536059670crow3_col2\" class=\"data row3 col2\" >103584</td> \n",
       "        <td id=\"T_6c4e2a40_2c83_11e8_a2af_dc536059670crow3_col3\" class=\"data row3 col3\" >111840</td> \n",
       "        <td id=\"T_6c4e2a40_2c83_11e8_a2af_dc536059670crow3_col4\" class=\"data row3 col4\" >117639</td> \n",
       "        <td id=\"T_6c4e2a40_2c83_11e8_a2af_dc536059670crow3_col5\" class=\"data row3 col5\" >127783</td> \n",
       "        <td id=\"T_6c4e2a40_2c83_11e8_a2af_dc536059670crow3_col6\" class=\"data row3 col6\" >189242</td> \n",
       "        <td id=\"T_6c4e2a40_2c83_11e8_a2af_dc536059670crow3_col7\" class=\"data row3 col7\" >184979</td> \n",
       "    </tr>    <tr> \n",
       "        <th id=\"T_6c4e2a40_2c83_11e8_a2af_dc536059670clevel0_row4\" class=\"row_heading level0 row4\" >18</th> \n",
       "        <td id=\"T_6c4e2a40_2c83_11e8_a2af_dc536059670crow4_col0\" class=\"data row4 col0\" >4</td> \n",
       "        <td id=\"T_6c4e2a40_2c83_11e8_a2af_dc536059670crow4_col1\" class=\"data row4 col1\" >73497</td> \n",
       "        <td id=\"T_6c4e2a40_2c83_11e8_a2af_dc536059670crow4_col2\" class=\"data row4 col2\" >68950</td> \n",
       "        <td id=\"T_6c4e2a40_2c83_11e8_a2af_dc536059670crow4_col3\" class=\"data row4 col3\" >72821</td> \n",
       "        <td id=\"T_6c4e2a40_2c83_11e8_a2af_dc536059670crow4_col4\" class=\"data row4 col4\" >76283</td> \n",
       "        <td id=\"T_6c4e2a40_2c83_11e8_a2af_dc536059670crow4_col5\" class=\"data row4 col5\" >86825</td> \n",
       "        <td id=\"T_6c4e2a40_2c83_11e8_a2af_dc536059670crow4_col6\" class=\"data row4 col6\" >138952</td> \n",
       "        <td id=\"T_6c4e2a40_2c83_11e8_a2af_dc536059670crow4_col7\" class=\"data row4 col7\" >140092</td> \n",
       "    </tr>    <tr> \n",
       "        <th id=\"T_6c4e2a40_2c83_11e8_a2af_dc536059670clevel0_row5\" class=\"row_heading level0 row5\" >19</th> \n",
       "        <td id=\"T_6c4e2a40_2c83_11e8_a2af_dc536059670crow5_col0\" class=\"data row5 col0\" >5</td> \n",
       "        <td id=\"T_6c4e2a40_2c83_11e8_a2af_dc536059670crow5_col1\" class=\"data row5 col1\" >48253</td> \n",
       "        <td id=\"T_6c4e2a40_2c83_11e8_a2af_dc536059670crow5_col2\" class=\"data row5 col2\" >42977</td> \n",
       "        <td id=\"T_6c4e2a40_2c83_11e8_a2af_dc536059670crow5_col3\" class=\"data row5 col3\" >44109</td> \n",
       "        <td id=\"T_6c4e2a40_2c83_11e8_a2af_dc536059670crow5_col4\" class=\"data row5 col4\" >42130</td> \n",
       "        <td id=\"T_6c4e2a40_2c83_11e8_a2af_dc536059670crow5_col5\" class=\"data row5 col5\" >55672</td> \n",
       "        <td id=\"T_6c4e2a40_2c83_11e8_a2af_dc536059670crow5_col6\" class=\"data row5 col6\" >97062</td> \n",
       "        <td id=\"T_6c4e2a40_2c83_11e8_a2af_dc536059670crow5_col7\" class=\"data row5 col7\" >101133</td> \n",
       "    </tr>    <tr> \n",
       "        <th id=\"T_6c4e2a40_2c83_11e8_a2af_dc536059670clevel0_row6\" class=\"row_heading level0 row6\" >20</th> \n",
       "        <td id=\"T_6c4e2a40_2c83_11e8_a2af_dc536059670crow6_col0\" class=\"data row6 col0\" >6</td> \n",
       "        <td id=\"T_6c4e2a40_2c83_11e8_a2af_dc536059670crow6_col1\" class=\"data row6 col1\" >31624</td> \n",
       "        <td id=\"T_6c4e2a40_2c83_11e8_a2af_dc536059670crow6_col2\" class=\"data row6 col2\" >26646</td> \n",
       "        <td id=\"T_6c4e2a40_2c83_11e8_a2af_dc536059670crow6_col3\" class=\"data row6 col3\" >27175</td> \n",
       "        <td id=\"T_6c4e2a40_2c83_11e8_a2af_dc536059670crow6_col4\" class=\"data row6 col4\" >27108</td> \n",
       "        <td id=\"T_6c4e2a40_2c83_11e8_a2af_dc536059670crow6_col5\" class=\"data row6 col5\" >36546</td> \n",
       "        <td id=\"T_6c4e2a40_2c83_11e8_a2af_dc536059670crow6_col6\" class=\"data row6 col6\" >68465</td> \n",
       "        <td id=\"T_6c4e2a40_2c83_11e8_a2af_dc536059670crow6_col7\" class=\"data row6 col7\" >72404</td> \n",
       "    </tr>    <tr> \n",
       "        <th id=\"T_6c4e2a40_2c83_11e8_a2af_dc536059670clevel0_row7\" class=\"row_heading level0 row7\" >21</th> \n",
       "        <td id=\"T_6c4e2a40_2c83_11e8_a2af_dc536059670crow7_col0\" class=\"data row7 col0\" >7</td> \n",
       "        <td id=\"T_6c4e2a40_2c83_11e8_a2af_dc536059670crow7_col1\" class=\"data row7 col1\" >23022</td> \n",
       "        <td id=\"T_6c4e2a40_2c83_11e8_a2af_dc536059670crow7_col2\" class=\"data row7 col2\" >18946</td> \n",
       "        <td id=\"T_6c4e2a40_2c83_11e8_a2af_dc536059670crow7_col3\" class=\"data row7 col3\" >19195</td> \n",
       "        <td id=\"T_6c4e2a40_2c83_11e8_a2af_dc536059670crow7_col4\" class=\"data row7 col4\" >20672</td> \n",
       "        <td id=\"T_6c4e2a40_2c83_11e8_a2af_dc536059670crow7_col5\" class=\"data row7 col5\" >26551</td> \n",
       "        <td id=\"T_6c4e2a40_2c83_11e8_a2af_dc536059670crow7_col6\" class=\"data row7 col6\" >49633</td> \n",
       "        <td id=\"T_6c4e2a40_2c83_11e8_a2af_dc536059670crow7_col7\" class=\"data row7 col7\" >52890</td> \n",
       "    </tr>    <tr> \n",
       "        <th id=\"T_6c4e2a40_2c83_11e8_a2af_dc536059670clevel0_row8\" class=\"row_heading level0 row8\" >22</th> \n",
       "        <td id=\"T_6c4e2a40_2c83_11e8_a2af_dc536059670crow8_col0\" class=\"data row8 col0\" >8</td> \n",
       "        <td id=\"T_6c4e2a40_2c83_11e8_a2af_dc536059670crow8_col1\" class=\"data row8 col1\" >15327</td> \n",
       "        <td id=\"T_6c4e2a40_2c83_11e8_a2af_dc536059670crow8_col2\" class=\"data row8 col2\" >12452</td> \n",
       "        <td id=\"T_6c4e2a40_2c83_11e8_a2af_dc536059670crow8_col3\" class=\"data row8 col3\" >12484</td> \n",
       "        <td id=\"T_6c4e2a40_2c83_11e8_a2af_dc536059670crow8_col4\" class=\"data row8 col4\" >13830</td> \n",
       "        <td id=\"T_6c4e2a40_2c83_11e8_a2af_dc536059670crow8_col5\" class=\"data row8 col5\" >18004</td> \n",
       "        <td id=\"T_6c4e2a40_2c83_11e8_a2af_dc536059670crow8_col6\" class=\"data row8 col6\" >33591</td> \n",
       "        <td id=\"T_6c4e2a40_2c83_11e8_a2af_dc536059670crow8_col7\" class=\"data row8 col7\" >35079</td> \n",
       "    </tr>    <tr> \n",
       "        <th id=\"T_6c4e2a40_2c83_11e8_a2af_dc536059670clevel0_row9\" class=\"row_heading level0 row9\" >23</th> \n",
       "        <td id=\"T_6c4e2a40_2c83_11e8_a2af_dc536059670crow9_col0\" class=\"data row9 col0\" >9</td> \n",
       "        <td id=\"T_6c4e2a40_2c83_11e8_a2af_dc536059670crow9_col1\" class=\"data row9 col1\" >11000</td> \n",
       "        <td id=\"T_6c4e2a40_2c83_11e8_a2af_dc536059670crow9_col2\" class=\"data row9 col2\" >8837</td> \n",
       "        <td id=\"T_6c4e2a40_2c83_11e8_a2af_dc536059670crow9_col3\" class=\"data row9 col3\" >8814</td> \n",
       "        <td id=\"T_6c4e2a40_2c83_11e8_a2af_dc536059670crow9_col4\" class=\"data row9 col4\" >10058</td> \n",
       "        <td id=\"T_6c4e2a40_2c83_11e8_a2af_dc536059670crow9_col5\" class=\"data row9 col5\" >12683</td> \n",
       "        <td id=\"T_6c4e2a40_2c83_11e8_a2af_dc536059670crow9_col6\" class=\"data row9 col6\" >21969</td> \n",
       "        <td id=\"T_6c4e2a40_2c83_11e8_a2af_dc536059670crow9_col7\" class=\"data row9 col7\" >21524</td> \n",
       "    </tr>    <tr> \n",
       "        <th id=\"T_6c4e2a40_2c83_11e8_a2af_dc536059670clevel0_row10\" class=\"row_heading level0 row10\" >1</th> \n",
       "        <td id=\"T_6c4e2a40_2c83_11e8_a2af_dc536059670crow10_col0\" class=\"data row10 col0\" >10</td> \n",
       "        <td id=\"T_6c4e2a40_2c83_11e8_a2af_dc536059670crow10_col1\" class=\"data row10 col1\" >10432</td> \n",
       "        <td id=\"T_6c4e2a40_2c83_11e8_a2af_dc536059670crow10_col2\" class=\"data row10 col2\" >9448</td> \n",
       "        <td id=\"T_6c4e2a40_2c83_11e8_a2af_dc536059670crow10_col3\" class=\"data row10 col3\" >9200</td> \n",
       "        <td id=\"T_6c4e2a40_2c83_11e8_a2af_dc536059670crow10_col4\" class=\"data row10 col4\" >9776</td> \n",
       "        <td id=\"T_6c4e2a40_2c83_11e8_a2af_dc536059670crow10_col5\" class=\"data row10 col5\" >11837</td> \n",
       "        <td id=\"T_6c4e2a40_2c83_11e8_a2af_dc536059670crow10_col6\" class=\"data row10 col6\" >16753</td> \n",
       "        <td id=\"T_6c4e2a40_2c83_11e8_a2af_dc536059670crow10_col7\" class=\"data row10 col7\" >15903</td> \n",
       "    </tr>    <tr> \n",
       "        <th id=\"T_6c4e2a40_2c83_11e8_a2af_dc536059670clevel0_row11\" class=\"row_heading level0 row11\" >2</th> \n",
       "        <td id=\"T_6c4e2a40_2c83_11e8_a2af_dc536059670crow11_col0\" class=\"data row11 col0\" >11</td> \n",
       "        <td id=\"T_6c4e2a40_2c83_11e8_a2af_dc536059670crow11_col1\" class=\"data row11 col1\" >14580</td> \n",
       "        <td id=\"T_6c4e2a40_2c83_11e8_a2af_dc536059670crow11_col2\" class=\"data row11 col2\" >14397</td> \n",
       "        <td id=\"T_6c4e2a40_2c83_11e8_a2af_dc536059670crow11_col3\" class=\"data row11 col3\" >14568</td> \n",
       "        <td id=\"T_6c4e2a40_2c83_11e8_a2af_dc536059670crow11_col4\" class=\"data row11 col4\" >14791</td> \n",
       "        <td id=\"T_6c4e2a40_2c83_11e8_a2af_dc536059670crow11_col5\" class=\"data row11 col5\" >15617</td> \n",
       "        <td id=\"T_6c4e2a40_2c83_11e8_a2af_dc536059670crow11_col6\" class=\"data row11 col6\" >15833</td> \n",
       "        <td id=\"T_6c4e2a40_2c83_11e8_a2af_dc536059670crow11_col7\" class=\"data row11 col7\" >13724</td> \n",
       "    </tr>    <tr> \n",
       "        <th id=\"T_6c4e2a40_2c83_11e8_a2af_dc536059670clevel0_row12\" class=\"row_heading level0 row12\" >3</th> \n",
       "        <td id=\"T_6c4e2a40_2c83_11e8_a2af_dc536059670crow12_col0\" class=\"data row12 col0\" >12</td> \n",
       "        <td id=\"T_6c4e2a40_2c83_11e8_a2af_dc536059670crow12_col1\" class=\"data row12 col1\" >23655</td> \n",
       "        <td id=\"T_6c4e2a40_2c83_11e8_a2af_dc536059670crow12_col2\" class=\"data row12 col2\" >24994</td> \n",
       "        <td id=\"T_6c4e2a40_2c83_11e8_a2af_dc536059670crow12_col3\" class=\"data row12 col3\" >24828</td> \n",
       "        <td id=\"T_6c4e2a40_2c83_11e8_a2af_dc536059670crow12_col4\" class=\"data row12 col4\" >24631</td> \n",
       "        <td id=\"T_6c4e2a40_2c83_11e8_a2af_dc536059670crow12_col5\" class=\"data row12 col5\" >26149</td> \n",
       "        <td id=\"T_6c4e2a40_2c83_11e8_a2af_dc536059670crow12_col6\" class=\"data row12 col6\" >21330</td> \n",
       "        <td id=\"T_6c4e2a40_2c83_11e8_a2af_dc536059670crow12_col7\" class=\"data row12 col7\" >16856</td> \n",
       "    </tr>    <tr> \n",
       "        <th id=\"T_6c4e2a40_2c83_11e8_a2af_dc536059670clevel0_row13\" class=\"row_heading level0 row13\" >4</th> \n",
       "        <td id=\"T_6c4e2a40_2c83_11e8_a2af_dc536059670crow13_col0\" class=\"data row13 col0\" >13</td> \n",
       "        <td id=\"T_6c4e2a40_2c83_11e8_a2af_dc536059670crow13_col1\" class=\"data row13 col1\" >33640</td> \n",
       "        <td id=\"T_6c4e2a40_2c83_11e8_a2af_dc536059670crow13_col2\" class=\"data row13 col2\" >35002</td> \n",
       "        <td id=\"T_6c4e2a40_2c83_11e8_a2af_dc536059670crow13_col3\" class=\"data row13 col3\" >34519</td> \n",
       "        <td id=\"T_6c4e2a40_2c83_11e8_a2af_dc536059670crow13_col4\" class=\"data row13 col4\" >34514</td> \n",
       "        <td id=\"T_6c4e2a40_2c83_11e8_a2af_dc536059670crow13_col5\" class=\"data row13 col5\" >37355</td> \n",
       "        <td id=\"T_6c4e2a40_2c83_11e8_a2af_dc536059670crow13_col6\" class=\"data row13 col6\" >36613</td> \n",
       "        <td id=\"T_6c4e2a40_2c83_11e8_a2af_dc536059670crow13_col7\" class=\"data row13 col7\" >28085</td> \n",
       "    </tr>    <tr> \n",
       "        <th id=\"T_6c4e2a40_2c83_11e8_a2af_dc536059670clevel0_row14\" class=\"row_heading level0 row14\" >5</th> \n",
       "        <td id=\"T_6c4e2a40_2c83_11e8_a2af_dc536059670crow14_col0\" class=\"data row14 col0\" >14</td> \n",
       "        <td id=\"T_6c4e2a40_2c83_11e8_a2af_dc536059670crow14_col1\" class=\"data row14 col1\" >48243</td> \n",
       "        <td id=\"T_6c4e2a40_2c83_11e8_a2af_dc536059670crow14_col2\" class=\"data row14 col2\" >50415</td> \n",
       "        <td id=\"T_6c4e2a40_2c83_11e8_a2af_dc536059670crow14_col3\" class=\"data row14 col3\" >51139</td> \n",
       "        <td id=\"T_6c4e2a40_2c83_11e8_a2af_dc536059670crow14_col4\" class=\"data row14 col4\" >51012</td> \n",
       "        <td id=\"T_6c4e2a40_2c83_11e8_a2af_dc536059670crow14_col5\" class=\"data row14 col5\" >56684</td> \n",
       "        <td id=\"T_6c4e2a40_2c83_11e8_a2af_dc536059670crow14_col6\" class=\"data row14 col6\" >63294</td> \n",
       "        <td id=\"T_6c4e2a40_2c83_11e8_a2af_dc536059670crow14_col7\" class=\"data row14 col7\" >49652</td> \n",
       "    </tr>    <tr> \n",
       "        <th id=\"T_6c4e2a40_2c83_11e8_a2af_dc536059670clevel0_row15\" class=\"row_heading level0 row15\" >6</th> \n",
       "        <td id=\"T_6c4e2a40_2c83_11e8_a2af_dc536059670crow15_col0\" class=\"data row15 col0\" >15</td> \n",
       "        <td id=\"T_6c4e2a40_2c83_11e8_a2af_dc536059670crow15_col1\" class=\"data row15 col1\" >66663</td> \n",
       "        <td id=\"T_6c4e2a40_2c83_11e8_a2af_dc536059670crow15_col2\" class=\"data row15 col2\" >67864</td> \n",
       "        <td id=\"T_6c4e2a40_2c83_11e8_a2af_dc536059670crow15_col3\" class=\"data row15 col3\" >69115</td> \n",
       "        <td id=\"T_6c4e2a40_2c83_11e8_a2af_dc536059670crow15_col4\" class=\"data row15 col4\" >70076</td> \n",
       "        <td id=\"T_6c4e2a40_2c83_11e8_a2af_dc536059670crow15_col5\" class=\"data row15 col5\" >79148</td> \n",
       "        <td id=\"T_6c4e2a40_2c83_11e8_a2af_dc536059670crow15_col6\" class=\"data row15 col6\" >103651</td> \n",
       "        <td id=\"T_6c4e2a40_2c83_11e8_a2af_dc536059670crow15_col7\" class=\"data row15 col7\" >86110</td> \n",
       "    </tr>    <tr> \n",
       "        <th id=\"T_6c4e2a40_2c83_11e8_a2af_dc536059670clevel0_row16\" class=\"row_heading level0 row16\" >7</th> \n",
       "        <td id=\"T_6c4e2a40_2c83_11e8_a2af_dc536059670crow16_col0\" class=\"data row16 col0\" >16</td> \n",
       "        <td id=\"T_6c4e2a40_2c83_11e8_a2af_dc536059670crow16_col1\" class=\"data row16 col1\" >88219</td> \n",
       "        <td id=\"T_6c4e2a40_2c83_11e8_a2af_dc536059670crow16_col2\" class=\"data row16 col2\" >86936</td> \n",
       "        <td id=\"T_6c4e2a40_2c83_11e8_a2af_dc536059670crow16_col3\" class=\"data row16 col3\" >89414</td> \n",
       "        <td id=\"T_6c4e2a40_2c83_11e8_a2af_dc536059670crow16_col4\" class=\"data row16 col4\" >91269</td> \n",
       "        <td id=\"T_6c4e2a40_2c83_11e8_a2af_dc536059670crow16_col5\" class=\"data row16 col5\" >106798</td> \n",
       "        <td id=\"T_6c4e2a40_2c83_11e8_a2af_dc536059670crow16_col6\" class=\"data row16 col6\" >149504</td> \n",
       "        <td id=\"T_6c4e2a40_2c83_11e8_a2af_dc536059670crow16_col7\" class=\"data row16 col7\" >129330</td> \n",
       "    </tr>    <tr> \n",
       "        <th id=\"T_6c4e2a40_2c83_11e8_a2af_dc536059670clevel0_row17\" class=\"row_heading level0 row17\" >8</th> \n",
       "        <td id=\"T_6c4e2a40_2c83_11e8_a2af_dc536059670crow17_col0\" class=\"data row17 col0\" >17</td> \n",
       "        <td id=\"T_6c4e2a40_2c83_11e8_a2af_dc536059670crow17_col1\" class=\"data row17 col1\" >100422</td> \n",
       "        <td id=\"T_6c4e2a40_2c83_11e8_a2af_dc536059670crow17_col2\" class=\"data row17 col2\" >95791</td> \n",
       "        <td id=\"T_6c4e2a40_2c83_11e8_a2af_dc536059670crow17_col3\" class=\"data row17 col3\" >97497</td> \n",
       "        <td id=\"T_6c4e2a40_2c83_11e8_a2af_dc536059670crow17_col4\" class=\"data row17 col4\" >99254</td> \n",
       "        <td id=\"T_6c4e2a40_2c83_11e8_a2af_dc536059670crow17_col5\" class=\"data row17 col5\" >119295</td> \n",
       "        <td id=\"T_6c4e2a40_2c83_11e8_a2af_dc536059670crow17_col6\" class=\"data row17 col6\" >188682</td> \n",
       "        <td id=\"T_6c4e2a40_2c83_11e8_a2af_dc536059670crow17_col7\" class=\"data row17 col7\" >171205</td> \n",
       "    </tr>    <tr> \n",
       "        <th id=\"T_6c4e2a40_2c83_11e8_a2af_dc536059670clevel0_row18\" class=\"row_heading level0 row18\" >9</th> \n",
       "        <td id=\"T_6c4e2a40_2c83_11e8_a2af_dc536059670crow18_col0\" class=\"data row18 col0\" >18</td> \n",
       "        <td id=\"T_6c4e2a40_2c83_11e8_a2af_dc536059670crow18_col1\" class=\"data row18 col1\" >131296</td> \n",
       "        <td id=\"T_6c4e2a40_2c83_11e8_a2af_dc536059670crow18_col2\" class=\"data row18 col2\" >126253</td> \n",
       "        <td id=\"T_6c4e2a40_2c83_11e8_a2af_dc536059670crow18_col3\" class=\"data row18 col3\" >128179</td> \n",
       "        <td id=\"T_6c4e2a40_2c83_11e8_a2af_dc536059670crow18_col4\" class=\"data row18 col4\" >131839</td> \n",
       "        <td id=\"T_6c4e2a40_2c83_11e8_a2af_dc536059670crow18_col5\" class=\"data row18 col5\" >156740</td> \n",
       "        <td id=\"T_6c4e2a40_2c83_11e8_a2af_dc536059670crow18_col6\" class=\"data row18 col6\" >225651</td> \n",
       "        <td id=\"T_6c4e2a40_2c83_11e8_a2af_dc536059670crow18_col7\" class=\"data row18 col7\" >205088</td> \n",
       "    </tr>    <tr> \n",
       "        <th id=\"T_6c4e2a40_2c83_11e8_a2af_dc536059670clevel0_row19\" class=\"row_heading level0 row19\" >10</th> \n",
       "        <td id=\"T_6c4e2a40_2c83_11e8_a2af_dc536059670crow19_col0\" class=\"data row19 col0\" >19</td> \n",
       "        <td id=\"T_6c4e2a40_2c83_11e8_a2af_dc536059670crow19_col1\" class=\"data row19 col1\" >160678</td> \n",
       "        <td id=\"T_6c4e2a40_2c83_11e8_a2af_dc536059670crow19_col2\" class=\"data row19 col2\" >155190</td> \n",
       "        <td id=\"T_6c4e2a40_2c83_11e8_a2af_dc536059670crow19_col3\" class=\"data row19 col3\" >157893</td> \n",
       "        <td id=\"T_6c4e2a40_2c83_11e8_a2af_dc536059670crow19_col4\" class=\"data row19 col4\" >162155</td> \n",
       "        <td id=\"T_6c4e2a40_2c83_11e8_a2af_dc536059670crow19_col5\" class=\"data row19 col5\" >194731</td> \n",
       "        <td id=\"T_6c4e2a40_2c83_11e8_a2af_dc536059670crow19_col6\" class=\"data row19 col6\" >251537</td> \n",
       "        <td id=\"T_6c4e2a40_2c83_11e8_a2af_dc536059670crow19_col7\" class=\"data row19 col7\" >229561</td> \n",
       "    </tr>    <tr> \n",
       "        <th id=\"T_6c4e2a40_2c83_11e8_a2af_dc536059670clevel0_row20\" class=\"row_heading level0 row20\" >12</th> \n",
       "        <td id=\"T_6c4e2a40_2c83_11e8_a2af_dc536059670crow20_col0\" class=\"data row20 col0\" >20</td> \n",
       "        <td id=\"T_6c4e2a40_2c83_11e8_a2af_dc536059670crow20_col1\" class=\"data row20 col1\" >140018</td> \n",
       "        <td id=\"T_6c4e2a40_2c83_11e8_a2af_dc536059670crow20_col2\" class=\"data row20 col2\" >128641</td> \n",
       "        <td id=\"T_6c4e2a40_2c83_11e8_a2af_dc536059670crow20_col3\" class=\"data row20 col3\" >131959</td> \n",
       "        <td id=\"T_6c4e2a40_2c83_11e8_a2af_dc536059670crow20_col4\" class=\"data row20 col4\" >135046</td> \n",
       "        <td id=\"T_6c4e2a40_2c83_11e8_a2af_dc536059670crow20_col5\" class=\"data row20 col5\" >168226</td> \n",
       "        <td id=\"T_6c4e2a40_2c83_11e8_a2af_dc536059670crow20_col6\" class=\"data row20 col6\" >246969</td> \n",
       "        <td id=\"T_6c4e2a40_2c83_11e8_a2af_dc536059670crow20_col7\" class=\"data row20 col7\" >222193</td> \n",
       "    </tr>    <tr> \n",
       "        <th id=\"T_6c4e2a40_2c83_11e8_a2af_dc536059670clevel0_row21\" class=\"row_heading level0 row21\" >13</th> \n",
       "        <td id=\"T_6c4e2a40_2c83_11e8_a2af_dc536059670crow21_col0\" class=\"data row21 col0\" >21</td> \n",
       "        <td id=\"T_6c4e2a40_2c83_11e8_a2af_dc536059670crow21_col1\" class=\"data row21 col1\" >127014</td> \n",
       "        <td id=\"T_6c4e2a40_2c83_11e8_a2af_dc536059670crow21_col2\" class=\"data row21 col2\" >117723</td> \n",
       "        <td id=\"T_6c4e2a40_2c83_11e8_a2af_dc536059670crow21_col3\" class=\"data row21 col3\" >120810</td> \n",
       "        <td id=\"T_6c4e2a40_2c83_11e8_a2af_dc536059670crow21_col4\" class=\"data row21 col4\" >124231</td> \n",
       "        <td id=\"T_6c4e2a40_2c83_11e8_a2af_dc536059670crow21_col5\" class=\"data row21 col5\" >154843</td> \n",
       "        <td id=\"T_6c4e2a40_2c83_11e8_a2af_dc536059670crow21_col6\" class=\"data row21 col6\" >229788</td> \n",
       "        <td id=\"T_6c4e2a40_2c83_11e8_a2af_dc536059670crow21_col7\" class=\"data row21 col7\" >197524</td> \n",
       "    </tr>    <tr> \n",
       "        <th id=\"T_6c4e2a40_2c83_11e8_a2af_dc536059670clevel0_row22\" class=\"row_heading level0 row22\" >14</th> \n",
       "        <td id=\"T_6c4e2a40_2c83_11e8_a2af_dc536059670crow22_col0\" class=\"data row22 col0\" >22</td> \n",
       "        <td id=\"T_6c4e2a40_2c83_11e8_a2af_dc536059670crow22_col1\" class=\"data row22 col1\" >129185</td> \n",
       "        <td id=\"T_6c4e2a40_2c83_11e8_a2af_dc536059670crow22_col2\" class=\"data row22 col2\" >126244</td> \n",
       "        <td id=\"T_6c4e2a40_2c83_11e8_a2af_dc536059670crow22_col3\" class=\"data row22 col3\" >129874</td> \n",
       "        <td id=\"T_6c4e2a40_2c83_11e8_a2af_dc536059670crow22_col4\" class=\"data row22 col4\" >133354</td> \n",
       "        <td id=\"T_6c4e2a40_2c83_11e8_a2af_dc536059670crow22_col5\" class=\"data row22 col5\" >166393</td> \n",
       "        <td id=\"T_6c4e2a40_2c83_11e8_a2af_dc536059670crow22_col6\" class=\"data row22 col6\" >219524</td> \n",
       "        <td id=\"T_6c4e2a40_2c83_11e8_a2af_dc536059670crow22_col7\" class=\"data row22 col7\" >178938</td> \n",
       "    </tr>    <tr> \n",
       "        <th id=\"T_6c4e2a40_2c83_11e8_a2af_dc536059670clevel0_row23\" class=\"row_heading level0 row23\" >15</th> \n",
       "        <td id=\"T_6c4e2a40_2c83_11e8_a2af_dc536059670crow23_col0\" class=\"data row23 col0\" >23</td> \n",
       "        <td id=\"T_6c4e2a40_2c83_11e8_a2af_dc536059670crow23_col1\" class=\"data row23 col1\" >138087</td> \n",
       "        <td id=\"T_6c4e2a40_2c83_11e8_a2af_dc536059670crow23_col2\" class=\"data row23 col2\" >143508</td> \n",
       "        <td id=\"T_6c4e2a40_2c83_11e8_a2af_dc536059670crow23_col3\" class=\"data row23 col3\" >146355</td> \n",
       "        <td id=\"T_6c4e2a40_2c83_11e8_a2af_dc536059670crow23_col4\" class=\"data row23 col4\" >151170</td> \n",
       "        <td id=\"T_6c4e2a40_2c83_11e8_a2af_dc536059670crow23_col5\" class=\"data row23 col5\" >190530</td> \n",
       "        <td id=\"T_6c4e2a40_2c83_11e8_a2af_dc536059670crow23_col6\" class=\"data row23 col6\" >217466</td> \n",
       "        <td id=\"T_6c4e2a40_2c83_11e8_a2af_dc536059670crow23_col7\" class=\"data row23 col7\" >168674</td> \n",
       "    </tr></tbody> \n",
       "</table> "
      ],
      "text/plain": [
       "<pandas.io.formats.style.Styler at 0xc8ff70f0>"
      ]
     },
     "execution_count": 208,
     "metadata": {},
     "output_type": "execute_result"
    }
   ],
   "source": [
    "dft['hour']=dft['hour'].apply(lambda x: str(x).split(':')[0])\n",
    "dft['hour']=dft['hour'].astype(int)\n",
    "# Sort by hour:\n",
    "dft =dft.sort_values('hour')\n",
    "dft =dft[['hour','Mon', 'Tue','Wed','Thu','Fri','Sat', 'Sun' ]]\n",
    "\n",
    "def highlight_max(s):\n",
    "    is_max = s == s.max()\n",
    "    return ['background-color: yellow' if v else '' for v in is_max]\n",
    "\n",
    "\n",
    "dft.style.apply(highlight_max, axis=0)"
   ]
  },
  {
   "cell_type": "markdown",
   "metadata": {},
   "source": [
    "Visualize the checkin trends for Saturday using the table above:"
   ]
  },
  {
   "cell_type": "code",
   "execution_count": 209,
   "metadata": {
    "collapsed": false
   },
   "outputs": [
    {
     "data": {
      "text/plain": [
       "<matplotlib.axes._subplots.AxesSubplot at 0xc8f926d8>"
      ]
     },
     "execution_count": 209,
     "metadata": {},
     "output_type": "execute_result"
    },
    {
     "data": {
      "image/png": "[encoded data removed]",
      "text/plain": [
       "<matplotlib.figure.Figure at 0xc8fa8978>"
      ]
     },
     "metadata": {},
     "output_type": "display_data"
    }
   ],
   "source": [
    "#plt.ylabel(\"Checkins in Sat\")\n",
    "sns.pointplot(x = \"hour\", y = \"Sat\", data = dft, join = True, color = \"orange\")"
   ]
  },
  {
   "cell_type": "markdown",
   "metadata": {},
   "source": [
    "## Sentiment Analysis of the tips for Bacchanal Buffet:\n",
    "\n",
    "Using another top restaurant, let's run a sentiment analysis. This will give the business owner an idea of the overall reactions to the restaurant and top areas of strength and weaknesses."
   ]
  },
  {
   "cell_type": "code",
   "execution_count": 210,
   "metadata": {
    "collapsed": false
   },
   "outputs": [
    {
     "data": {
      "text/html": [
       "<div>\n",
       "<style>\n",
       "    .dataframe thead tr:only-child th {\n",
       "        text-align: right;\n",
       "    }\n",
       "\n",
       "    .dataframe thead th {\n",
       "        text-align: left;\n",
       "    }\n",
       "\n",
       "    .dataframe tbody tr th {\n",
       "        vertical-align: top;\n",
       "    }\n",
       "</style>\n",
       "<table border=\"1\" class=\"dataframe\">\n",
       "  <thead>\n",
       "    <tr style=\"text-align: right;\">\n",
       "      <th></th>\n",
       "      <th>text</th>\n",
       "      <th>date</th>\n",
       "      <th>likes</th>\n",
       "      <th>business_id</th>\n",
       "      <th>user_id</th>\n",
       "    </tr>\n",
       "  </thead>\n",
       "  <tbody>\n",
       "    <tr>\n",
       "      <th>0</th>\n",
       "      <td>Great breakfast large portions and friendly wa...</td>\n",
       "      <td>2015-08-12</td>\n",
       "      <td>0</td>\n",
       "      <td>jH19V2I9fIslnNhDzPmdkA</td>\n",
       "      <td>ZcLKXikTHYOnYt5VYRO5sg</td>\n",
       "    </tr>\n",
       "    <tr>\n",
       "      <th>1</th>\n",
       "      <td>Nice place. Great staff.  A fixture in the tow...</td>\n",
       "      <td>2014-06-20</td>\n",
       "      <td>0</td>\n",
       "      <td>dAa0hB2yrnHzVmsCkN4YvQ</td>\n",
       "      <td>oaYhjqBbh18ZhU0bpyzSuw</td>\n",
       "    </tr>\n",
       "  </tbody>\n",
       "</table>\n",
       "</div>"
      ],
      "text/plain": [
       "                                                text        date  likes  \\\n",
       "0  Great breakfast large portions and friendly wa...  2015-08-12      0   \n",
       "1  Nice place. Great staff.  A fixture in the tow...  2014-06-20      0   \n",
       "\n",
       "              business_id                 user_id  \n",
       "0  jH19V2I9fIslnNhDzPmdkA  ZcLKXikTHYOnYt5VYRO5sg  \n",
       "1  dAa0hB2yrnHzVmsCkN4YvQ  oaYhjqBbh18ZhU0bpyzSuw  "
      ]
     },
     "execution_count": 210,
     "metadata": {},
     "output_type": "execute_result"
    }
   ],
   "source": [
    "#read in tips dataset:\n",
    "\n",
    "tips = pd.read_csv(\"yelp_tip.csv\")\n",
    "tips.head(2)"
   ]
  },
  {
   "cell_type": "code",
   "execution_count": 266,
   "metadata": {
    "collapsed": false
   },
   "outputs": [],
   "source": [
    "bac_tips = tips[tips[\"business_id\"] == \"RESDUcs7fIiihp38-d6_6g\"][\"text\"]\n",
    "\n",
    "bac_tips = list(bac_tips.get_values())"
   ]
  },
  {
   "cell_type": "code",
   "execution_count": 267,
   "metadata": {
    "collapsed": false
   },
   "outputs": [],
   "source": [
    "clean_words = []\n",
    "for tip in bac_tips:\n",
    "    tip = tip.lower().split()\n",
    "    for word in tip:\n",
    "        word = word.rstrip('*!?.:').lstrip('*@#')\n",
    "        clean_words.append(word)\n"
   ]
  },
  {
   "cell_type": "code",
   "execution_count": 274,
   "metadata": {
    "collapsed": false
   },
   "outputs": [],
   "source": [
    "#STEP 2: Read in positive and negative words:\n",
    "\n",
    "positive  = open(\"positive-words.txt\", \"r\")\n",
    "positive = positive.read().split()\n",
    "\n",
    "negative = open(\"negative-words.txt\", \"r\")\n",
    "negative = negative.read().split()\n",
    "\n",
    "stop = open(\"stop.txt\", \"r\")\n",
    "stop = stop.read().split()\n"
   ]
  },
  {
   "cell_type": "code",
   "execution_count": 275,
   "metadata": {
    "collapsed": false
   },
   "outputs": [
    {
     "data": {
      "text/plain": [
       "[\"should've\",\n",
       " 'today',\n",
       " 'day',\n",
       " '\"bacchanal\"',\n",
       " 'refers',\n",
       " 'ancient',\n",
       " 'grecoroman',\n",
       " 'god',\n",
       " 'bacchus',\n",
       " '(aka',\n",
       " 'dionysus)',\n",
       " 'original',\n",
       " 'god',\n",
       " 'lit',\n",
       " '10',\n",
       " 'min',\n",
       " 'wait',\n",
       " '10:28',\n",
       " 'bellagio',\n",
       " 'wynn',\n",
       " 'buffets',\n",
       " '10',\n",
       " 'times',\n",
       " 'beautiful',\n",
       " 'overlooked',\n",
       " 'service',\n",
       " 'slow\\\\/lacking',\n",
       " 'tables',\n",
       " 'tight',\n",
       " 'knocking',\n",
       " 'neighbors',\n",
       " 'line',\n",
       " 'pretty',\n",
       " 'long',\n",
       " 'time',\n",
       " 'plan',\n",
       " \"wednesday's\",\n",
       " '3pm',\n",
       " '5pm',\n",
       " 'shortest',\n",
       " 'lines',\n",
       " 'waiting',\n",
       " 'long',\n",
       " 'brisket',\n",
       " 'save',\n",
       " 'room',\n",
       " 'gelato',\n",
       " 'mind',\n",
       " 'blowing',\n",
       " 'pay',\n",
       " '$15',\n",
       " 'line',\n",
       " 'pass',\n",
       " 'first,',\n",
       " 'choices',\n",
       " 'place',\n",
       " 'awesome',\n",
       " 'rio',\n",
       " 'international',\n",
       " 'quality',\n",
       " 'groupon,',\n",
       " 'charge',\n",
       " '$5',\n",
       " 'tax',\n",
       " 'arrive',\n",
       " 'lame',\n",
       " 'focus',\n",
       " 'seafood',\n",
       " 'protein-',\n",
       " 'avoid',\n",
       " 'stuffing',\n",
       " 'breads',\n",
       " 'give',\n",
       " 'break',\n",
       " 'dessert',\n",
       " 'fancy',\n",
       " 'wait',\n",
       " 'time',\n",
       " 'long',\n",
       " 'call',\n",
       " 'ahead',\n",
       " 'double',\n",
       " 'check',\n",
       " 'prepared',\n",
       " 'wait',\n",
       " 'longer',\n",
       " 'printed',\n",
       " 'ticket',\n",
       " 'time',\n",
       " 'asian',\n",
       " 'pretty',\n",
       " 'decent',\n",
       " 'desserts',\n",
       " 'kabob',\n",
       " 'meal',\n",
       " 'taste',\n",
       " 'home',\n",
       " 'made,',\n",
       " 'salads',\n",
       " 'crazy',\n",
       " 'looooong',\n",
       " 'line',\n",
       " 'unlike',\n",
       " 'casinos,',\n",
       " 'validate',\n",
       " 'parking',\n",
       " 'sucks',\n",
       " 'makes',\n",
       " 'excellent',\n",
       " 'preparation',\n",
       " 'flavor',\n",
       " 'breakfast',\n",
       " 'lot',\n",
       " 'expensive',\n",
       " 'great',\n",
       " 'seafood',\n",
       " 'selection',\n",
       " 'wonderful',\n",
       " 'crepes',\n",
       " 'lunch',\n",
       " '10:30',\n",
       " 'eggs',\n",
       " 'bacon,',\n",
       " 'good',\n",
       " 'selection',\n",
       " 'seafood',\n",
       " 'sample',\n",
       " 'lunch',\n",
       " 'items',\n",
       " 'save',\n",
       " '$10',\n",
       " 'loved',\n",
       " 'save',\n",
       " 'room',\n",
       " 'dessert',\n",
       " '$55.12',\n",
       " 'sunday',\n",
       " 'dinner',\n",
       " 'hands',\n",
       " 'down,',\n",
       " 'freshly',\n",
       " 'squeezed',\n",
       " 'juices,',\n",
       " 'stobe',\n",
       " 'crab,',\n",
       " 'dim',\n",
       " 'sum,',\n",
       " 'super',\n",
       " 'great',\n",
       " 'food,',\n",
       " 'treat',\n",
       " 'stumble',\n",
       " 'heavenly',\n",
       " 'place',\n",
       " '',\n",
       " 'person',\n",
       " 'chicken',\n",
       " 'check',\n",
       " 'put',\n",
       " 'kiosks',\n",
       " 'entrance',\n",
       " 'wait',\n",
       " 'line',\n",
       " 'line',\n",
       " 'pay',\n",
       " 'buffets',\n",
       " 'vegas',\n",
       " 'plan',\n",
       " 'wait',\n",
       " '30',\n",
       " 'minutes',\n",
       " 'line',\n",
       " 'dinner',\n",
       " 'hours',\n",
       " 'make',\n",
       " 'total',\n",
       " 'rewards',\n",
       " 'card',\n",
       " 'save',\n",
       " '$3',\n",
       " 'head',\n",
       " 'kids',\n",
       " '2',\n",
       " 'eat',\n",
       " 'free',\n",
       " 'words',\n",
       " 'prime',\n",
       " 'rib',\n",
       " '(seriously!)',\n",
       " 'long',\n",
       " 'lines',\n",
       " 'brunch',\n",
       " 'weekends',\n",
       " '$45',\n",
       " 'includes',\n",
       " 'free',\n",
       " 'champagne',\n",
       " 'brunch',\n",
       " 'ends',\n",
       " '3',\n",
       " 'pm',\n",
       " 'yeah',\n",
       " 'baby',\n",
       " 'yelp',\n",
       " 'event',\n",
       " 'free',\n",
       " 'dinner',\n",
       " 'wifey',\n",
       " 'good',\n",
       " 'elite',\n",
       " 'mentioned',\n",
       " 'found',\n",
       " 'plastic',\n",
       " 'wrappers',\n",
       " 'black',\n",
       " 'chicken',\n",
       " 'soup',\n",
       " 'serving',\n",
       " 'assured',\n",
       " 'pull',\n",
       " 'batch',\n",
       " 'remake',\n",
       " '=|',\n",
       " 'vegas',\n",
       " 'ceasars',\n",
       " 'shame',\n",
       " '$51',\n",
       " 'dinner',\n",
       " 'weekends',\n",
       " '18%',\n",
       " 'included',\n",
       " 'gratuities',\n",
       " 'party',\n",
       " '8',\n",
       " '$39',\n",
       " 'lunch',\n",
       " 'adults',\n",
       " '$20',\n",
       " 'lunch',\n",
       " 'ages',\n",
       " '3-10',\n",
       " '$55',\n",
       " 'dinner',\n",
       " 'adults',\n",
       " 'street',\n",
       " 'tacos',\n",
       " 'soooo',\n",
       " 'good',\n",
       " 'worth',\n",
       " '50',\n",
       " 'dollars....run',\n",
       " 'lunch',\n",
       " 'dark',\n",
       " 'hour,',\n",
       " '3',\n",
       " 'pm',\n",
       " 'dinner',\n",
       " 'fresh',\n",
       " 'juice',\n",
       " 'breakfast',\n",
       " '500',\n",
       " 'items',\n",
       " 'worlds',\n",
       " 'largest',\n",
       " 'carried',\n",
       " '45',\n",
       " 'min',\n",
       " 'wait',\n",
       " 'time',\n",
       " 'day',\n",
       " 'wait',\n",
       " 'throw',\n",
       " 'eating',\n",
       " 'roll',\n",
       " 'outta',\n",
       " 'rosemarie',\n",
       " 'hostess',\n",
       " 'michoacan',\n",
       " 'chef',\n",
       " 'david',\n",
       " 'hooked',\n",
       " 'da',\n",
       " 'boss',\n",
       " '',\n",
       " '63',\n",
       " 'bucks',\n",
       " 'party',\n",
       " '8',\n",
       " 'includes',\n",
       " 'tip',\n",
       " ':)))))))',\n",
       " 'bring',\n",
       " 'endless',\n",
       " 'mimosa',\n",
       " 'time',\n",
       " 'cashiers',\n",
       " 'stupid',\n",
       " 'show',\n",
       " 'totally',\n",
       " 'rewards',\n",
       " 'card',\n",
       " '$1',\n",
       " 'person',\n",
       " '(if',\n",
       " 'one,',\n",
       " 'walk',\n",
       " 'desk',\n",
       " 'comp',\n",
       " 'hour+',\n",
       " 'wait)',\n",
       " 'ticket',\n",
       " 'number',\n",
       " 'advance',\n",
       " 'prepared',\n",
       " 'wait',\n",
       " 'pay',\n",
       " '$15',\n",
       " 'skip',\n",
       " 'line',\n",
       " 'wonderful',\n",
       " 'steamed',\n",
       " 'crabs...mmmm',\n",
       " 'everything,',\n",
       " 'eat',\n",
       " 'prepared',\n",
       " 'wait',\n",
       " 'simple',\n",
       " 'tip',\n",
       " 'strip...add',\n",
       " 'eat',\n",
       " 'list',\n",
       " 'hot',\n",
       " 'food,',\n",
       " 'quality,',\n",
       " 'great',\n",
       " 'taste,',\n",
       " 'consistent',\n",
       " 'good',\n",
       " 'service',\n",
       " 'enjoy',\n",
       " 'saturday',\n",
       " 'morning',\n",
       " 'brunch',\n",
       " '$50\\\\/person',\n",
       " 'pay',\n",
       " '$15',\n",
       " 'extra',\n",
       " 'express',\n",
       " 'line',\n",
       " 'peach',\n",
       " 'green',\n",
       " 'tea',\n",
       " 'expect',\n",
       " 'wait,',\n",
       " 'pay',\n",
       " '&',\n",
       " 'enjoy',\n",
       " 'town',\n",
       " 'love',\n",
       " 'yummy',\n",
       " 'tacos',\n",
       " 'platinum',\n",
       " 'front',\n",
       " 'long',\n",
       " 'line',\n",
       " 'pricey',\n",
       " 'super',\n",
       " 'good',\n",
       " 'great',\n",
       " 'service',\n",
       " 'options',\n",
       " 'early',\n",
       " 'expect',\n",
       " 'long',\n",
       " 'wait',\n",
       " 'time',\n",
       " 'expect',\n",
       " 'pay',\n",
       " 'holiday',\n",
       " 'events',\n",
       " 'worth',\n",
       " 'buffets',\n",
       " 'town,',\n",
       " 'suck',\n",
       " 'place',\n",
       " 'cream',\n",
       " 'crop',\n",
       " 'pay',\n",
       " '50.00',\n",
       " 'bucks',\n",
       " 'cool',\n",
       " 'experience',\n",
       " 'steep',\n",
       " 'side',\n",
       " 'line',\n",
       " 'morning,',\n",
       " 'opening',\n",
       " '5',\n",
       " 'minutes',\n",
       " 'make',\n",
       " 'tacos',\n",
       " 'vegetarian',\n",
       " 'guy',\n",
       " 'made',\n",
       " 'tortillas',\n",
       " 'added',\n",
       " 'onions,',\n",
       " 'pico',\n",
       " 'de',\n",
       " 'gallo',\n",
       " 'guac',\n",
       " 'tour',\n",
       " 'start',\n",
       " 'back',\n",
       " 'work',\n",
       " '$15',\n",
       " 'express',\n",
       " 'pass',\n",
       " 'worth',\n",
       " 'wait',\n",
       " 'hour',\n",
       " 'time',\n",
       " 'eat',\n",
       " 'golf',\n",
       " 'time',\n",
       " 'grind',\n",
       " 'early,',\n",
       " 'prepared',\n",
       " 'wait',\n",
       " 'line',\n",
       " 'miss',\n",
       " 'semi-hidden',\n",
       " 'back',\n",
       " 'room',\n",
       " 'sushi,',\n",
       " 'sticky',\n",
       " 'rice,',\n",
       " 'egg',\n",
       " 'rolls,',\n",
       " 'chicken',\n",
       " 'feet',\n",
       " 'btw,',\n",
       " 'bring',\n",
       " 'patience,',\n",
       " 'sense',\n",
       " 'foot',\n",
       " 'traffic',\n",
       " 'patterns',\n",
       " 'opt',\n",
       " 'late',\n",
       " 'lunch',\n",
       " '145',\n",
       " 'guaranteed',\n",
       " 'lunch',\n",
       " 'price,',\n",
       " 'dinner',\n",
       " 'offerings',\n",
       " ':)',\n",
       " 'full',\n",
       " 'day',\n",
       " 'pass,',\n",
       " '$54.99,',\n",
       " 'paying',\n",
       " 'dinner',\n",
       " '$34.99',\n",
       " 'strip',\n",
       " 'hands',\n",
       " 'worst',\n",
       " 'customer',\n",
       " 'service',\n",
       " '1.5',\n",
       " 'hour',\n",
       " 'wait,',\n",
       " '$45',\n",
       " 'pop...the',\n",
       " 'cost\\\\/benefit',\n",
       " 'ready',\n",
       " 'round',\n",
       " '1',\n",
       " '$26.99',\n",
       " 'lunch',\n",
       " 'monday',\n",
       " '(did',\n",
       " 'discount',\n",
       " 'added',\n",
       " 'lol)',\n",
       " 'current',\n",
       " 'weekday',\n",
       " 'prices',\n",
       " 'breakfast',\n",
       " '=',\n",
       " '$30.90,',\n",
       " 'lunch',\n",
       " '=',\n",
       " '$37.99,',\n",
       " 'dinner',\n",
       " '(mon-thu)',\n",
       " '=',\n",
       " '$52.99',\n",
       " \"caesar's\",\n",
       " 'palace',\n",
       " 'telephone',\n",
       " 'customer',\n",
       " 'service',\n",
       " 'person',\n",
       " 'quoted',\n",
       " 'prices,',\n",
       " 'confirmed',\n",
       " 'lunch',\n",
       " 'price',\n",
       " 'vip',\n",
       " 'lines',\n",
       " 'vip',\n",
       " 'brunch',\n",
       " 'groupon',\n",
       " 'master',\n",
       " 'experience',\n",
       " 'carbs',\n",
       " '(or',\n",
       " 'save',\n",
       " 'last),',\n",
       " 'save',\n",
       " 'dessert',\n",
       " 'last,',\n",
       " 'drink',\n",
       " 'liquids,',\n",
       " 'eat',\n",
       " 'seafood\\\\/crab',\n",
       " 'legs',\n",
       " 'check',\n",
       " 'options',\n",
       " 'piling',\n",
       " 'plate',\n",
       " 'faves',\n",
       " 'thai',\n",
       " 'curry',\n",
       " 'mussels,',\n",
       " 'clams,',\n",
       " 'steamed',\n",
       " 'crab',\n",
       " 'legs,',\n",
       " 'pork',\n",
       " 'belly,',\n",
       " 'street',\n",
       " 'tacos',\n",
       " 'station,',\n",
       " 'chocolate',\n",
       " 'cake',\n",
       " 'pops,',\n",
       " 'thee',\n",
       " 'cheeeeeese',\n",
       " 'station',\n",
       " 'oh,',\n",
       " 'forget',\n",
       " 'check',\n",
       " 'crepe',\n",
       " 'station',\n",
       " '6,',\n",
       " 'line',\n",
       " 'dinner',\n",
       " 'price',\n",
       " '$52.99',\n",
       " 'serves',\n",
       " 'crab',\n",
       " 'legs;',\n",
       " 'starts',\n",
       " '3pm',\n",
       " 'dinner',\n",
       " 'vegas',\n",
       " 'impressive',\n",
       " 'display',\n",
       " 'steamed',\n",
       " 'crab',\n",
       " 'legs',\n",
       " 'cheese',\n",
       " 'section,',\n",
       " 'seafood',\n",
       " 'section',\n",
       " 'oh,',\n",
       " 'stone',\n",
       " 'crab',\n",
       " 'claws',\n",
       " 'dessert',\n",
       " 'selection',\n",
       " 'crepe',\n",
       " 'station,',\n",
       " 'gelato,',\n",
       " 'asian',\n",
       " 'shaved',\n",
       " 'ice,',\n",
       " 'macarons,',\n",
       " 'long',\n",
       " 'line',\n",
       " 'today',\n",
       " 'awesome',\n",
       " 'meat',\n",
       " 'carving',\n",
       " 'station',\n",
       " '-',\n",
       " 'brisket',\n",
       " 'mango',\n",
       " 'jalape\\xc3\\xb1o',\n",
       " 'chicken',\n",
       " 'sausage',\n",
       " 'free',\n",
       " '$15',\n",
       " 'line',\n",
       " 'pass',\n",
       " 'w',\n",
       " 'local',\n",
       " 'id',\n",
       " 'wednesday',\n",
       " 'sept',\n",
       " 'expectations',\n",
       " 'low',\n",
       " '-',\n",
       " 'quality',\n",
       " 'opening',\n",
       " 'worth',\n",
       " 'wait',\n",
       " 'las',\n",
       " 'vegas',\n",
       " 'fresh',\n",
       " 'juices',\n",
       " 'awesome',\n",
       " '$35.99',\n",
       " 'lunch',\n",
       " 'epic',\n",
       " 'feast',\n",
       " '5',\n",
       " 'avoid',\n",
       " 'longer',\n",
       " '1',\n",
       " 'hour',\n",
       " 'wait',\n",
       " 'love',\n",
       " 'place',\n",
       " 'patience',\n",
       " 'line',\n",
       " 'worth',\n",
       " 'trust',\n",
       " 'lunch',\n",
       " 'todd',\n",
       " \"english's\",\n",
       " 'olives',\n",
       " 'dinner',\n",
       " 'day',\n",
       " 'olives',\n",
       " 'haha',\n",
       " 'good',\n",
       " ':)',\n",
       " 'vegas',\n",
       " 'vegas',\n",
       " ':)',\n",
       " 'hands',\n",
       " 'tip',\n",
       " 'eat',\n",
       " 'cold',\n",
       " 'crab,',\n",
       " 'put',\n",
       " 'plate',\n",
       " 'counter',\n",
       " 'crab',\n",
       " 'station',\n",
       " 'fill',\n",
       " 'steaming',\n",
       " 'hot',\n",
       " 'crab',\n",
       " 'legs',\n",
       " ';-)',\n",
       " 'mimosa',\n",
       " 'brunch',\n",
       " 'sundays',\n",
       " '3pm',\n",
       " 'hands',\n",
       " 'down--the',\n",
       " 'lifetime',\n",
       " 'pictures',\n",
       " 'fool',\n",
       " 'year',\n",
       " 'ago',\n",
       " 'quality',\n",
       " 'hill',\n",
       " 'hands',\n",
       " 'vegas',\n",
       " 'm',\n",
       " '$24.99',\n",
       " 'tax',\n",
       " 'breakfast',\n",
       " 'weekday',\n",
       " 'tr',\n",
       " 'holidays',\n",
       " 'overly',\n",
       " 'pricey',\n",
       " 'random',\n",
       " 'day',\n",
       " 'week',\n",
       " '&',\n",
       " 'ur',\n",
       " 'total',\n",
       " 'rewards',\n",
       " 'card',\n",
       " 'tiny',\n",
       " 'discount',\n",
       " 'enjoy',\n",
       " 'players',\n",
       " 'card',\n",
       " 'save',\n",
       " '$3',\n",
       " 'dinner',\n",
       " '$42',\n",
       " 'everyday,',\n",
       " '$46',\n",
       " 'w',\n",
       " 'tax',\n",
       " 'bottomless',\n",
       " 'mimosa',\n",
       " ':)',\n",
       " 'skip',\n",
       " 'presentation',\n",
       " 'excellent',\n",
       " '',\n",
       " 'pay',\n",
       " 'express',\n",
       " 'french',\n",
       " 'toast',\n",
       " 'ice',\n",
       " 'cream',\n",
       " 'miss',\n",
       " 'this,',\n",
       " 'ashamed',\n",
       " 'line',\n",
       " 'eat',\n",
       " 'midnight',\n",
       " 'totally',\n",
       " 'missed',\n",
       " 'boat',\n",
       " 'absolutely',\n",
       " 'amazing',\n",
       " 'worth',\n",
       " 'price',\n",
       " 'service',\n",
       " 'great,',\n",
       " 'makes',\n",
       " 'long',\n",
       " 'line',\n",
       " 'worth',\n",
       " 'dinner',\n",
       " 'good',\n",
       " 'back',\n",
       " 'breakfast',\n",
       " 'disappointed',\n",
       " 'favorite',\n",
       " 'great',\n",
       " 'dessert',\n",
       " 'section',\n",
       " 'diamond\\\\/seven',\n",
       " 'star',\n",
       " 'warm',\n",
       " 'crab',\n",
       " 'leg',\n",
       " 'service',\n",
       " 'delivered',\n",
       " 'table',\n",
       " 'server',\n",
       " 'total',\n",
       " 'score',\n",
       " 'heaven',\n",
       " 'vegas',\n",
       " 'las',\n",
       " 'vegas',\n",
       " 'nv,',\n",
       " 'kinda',\n",
       " 'pricey',\n",
       " 'worth',\n",
       " 'kids,',\n",
       " 'great',\n",
       " 'experience',\n",
       " 'mouth',\n",
       " 'las',\n",
       " 'vegas',\n",
       " 'nevada',\n",
       " 'great',\n",
       " 'experience',\n",
       " 'mouth',\n",
       " 'las',\n",
       " 'vegas',\n",
       " 'nevada',\n",
       " 'best,',\n",
       " 'complete',\n",
       " 'perfect',\n",
       " 'way,',\n",
       " 'disappoint',\n",
       " 'worth',\n",
       " 'penny',\n",
       " 'real',\n",
       " 'treat',\n",
       " 'dinner',\n",
       " 'night',\n",
       " 'absolutely',\n",
       " 'delicious',\n",
       " 'expensive',\n",
       " 'variety',\n",
       " '&',\n",
       " 'price',\n",
       " 'vegas',\n",
       " 'check',\n",
       " 'pics',\n",
       " 'arrive',\n",
       " 'early',\n",
       " 'lines',\n",
       " 'glad',\n",
       " 'early',\n",
       " 'gift',\n",
       " 'wrap',\n",
       " 'awsome',\n",
       " 'hate',\n",
       " 'lines',\n",
       " 'eat',\n",
       " 'heaven',\n",
       " '5pm',\n",
       " '530',\n",
       " 'barely',\n",
       " 'register',\n",
       " 'pay',\n",
       " 'enter',\n",
       " 'hungry',\n",
       " 'ready',\n",
       " 'wait',\n",
       " 'line',\n",
       " 'bit',\n",
       " 'man-',\n",
       " 'hate',\n",
       " 'line-',\n",
       " 'lol',\n",
       " 'finally',\n",
       " 'newest',\n",
       " 'town,',\n",
       " 'yay',\n",
       " 'gluttony',\n",
       " 'large',\n",
       " 'assortment',\n",
       " 'desserts',\n",
       " 'mundane',\n",
       " 'sugar',\n",
       " 'free',\n",
       " 'selections',\n",
       " 'grab',\n",
       " 'back',\n",
       " 'hotter',\n",
       " 'fresher',\n",
       " 'early',\n",
       " 'friday',\n",
       " 'saturday',\n",
       " 'night...we',\n",
       " 'waited',\n",
       " '&',\n",
       " 'half',\n",
       " 'hours;',\n",
       " 'delish',\n",
       " 'wait',\n",
       " '(1hr)but',\n",
       " 'u',\n",
       " 'diamond',\n",
       " 'card',\n",
       " 'ur',\n",
       " 'good',\n",
       " 'reward',\n",
       " 'card',\n",
       " 'good',\n",
       " '6',\n",
       " 'people',\n",
       " '&',\n",
       " '$2.00',\n",
       " 'person',\n",
       " 'stone',\n",
       " 'crabs.they',\n",
       " 'u',\n",
       " 'customize',\n",
       " 'stuff',\n",
       " 'u',\n",
       " 'da',\n",
       " 'chefs',\n",
       " 'deserts',\n",
       " 'da',\n",
       " 'pix',\n",
       " 'inside',\n",
       " 'candy',\n",
       " 'jelly',\n",
       " 'belly',\n",
       " 'unlimited',\n",
       " 'beer',\n",
       " '&',\n",
       " 'wine',\n",
       " 'extra',\n",
       " '$15.95',\n",
       " 'seating',\n",
       " 'two,',\n",
       " 'sucks',\n",
       " 'people',\n",
       " 'sides',\n",
       " 'hear',\n",
       " 'conversation',\n",
       " 'felt',\n",
       " 'dining',\n",
       " 'strangers',\n",
       " 'awesome',\n",
       " 'selection',\n",
       " 'great',\n",
       " 'buffet,',\n",
       " 'glad',\n",
       " 'experiencing',\n",
       " 'worth',\n",
       " 'paying',\n",
       " 'express',\n",
       " 'line',\n",
       " 'surcharge',\n",
       " 'fee',\n",
       " 'line',\n",
       " 'hour',\n",
       " 'long',\n",
       " 'pretty',\n",
       " 'good',\n",
       " 'clearing',\n",
       " 'plates,',\n",
       " 'refilling',\n",
       " 'beverages',\n",
       " 'work',\n",
       " 'worth',\n",
       " 'paying',\n",
       " 'express',\n",
       " 'line',\n",
       " 'surcharge',\n",
       " 'fee',\n",
       " 'line',\n",
       " 'hour',\n",
       " 'long',\n",
       " 'line',\n",
       " 'crazy',\n",
       " 'long',\n",
       " '8pm',\n",
       " 'weeknight',\n",
       " '(5-2-2013)',\n",
       " 'check-in',\n",
       " 'kiosk,',\n",
       " 'immediately',\n",
       " 'wait',\n",
       " 'line',\n",
       " 'worth',\n",
       " 'back',\n",
       " 'notified',\n",
       " 'text',\n",
       " 'message',\n",
       " 'wait',\n",
       " 'line',\n",
       " 'french',\n",
       " 'dip',\n",
       " 'sliders',\n",
       " 'freshly',\n",
       " 'prepared',\n",
       " 'sooooo',\n",
       " 'good',\n",
       " 'feel',\n",
       " 'guilty',\n",
       " 'wasting',\n",
       " 'precious',\n",
       " 'cargo',\n",
       " 'hold',\n",
       " 'space',\n",
       " 'sandwiches',\n",
       " '',\n",
       " 'vegas',\n",
       " 'style',\n",
       " 'thanksgiving',\n",
       " 'worth',\n",
       " 'buy',\n",
       " 'express',\n",
       " '$20',\n",
       " 'wait',\n",
       " 'times',\n",
       " 'crazy',\n",
       " 'today',\n",
       " 'vegas',\n",
       " 'fav',\n",
       " 'spot',\n",
       " 'love',\n",
       " 'king',\n",
       " 'crabs,',\n",
       " 'asian',\n",
       " 'selection,',\n",
       " 'rib',\n",
       " 'eye',\n",
       " 'juicy',\n",
       " 'lil',\n",
       " 'salty',\n",
       " 'desserts',\n",
       " '-',\n",
       " 'hands',\n",
       " 'favs',\n",
       " 'creme',\n",
       " ...]"
      ]
     },
     "execution_count": 275,
     "metadata": {},
     "output_type": "execute_result"
    }
   ],
   "source": [
    "#clean the word list:\n",
    "lst = [\"a\", \"i\", \"b\", \"the\", \"you\", \"not\", \"in\", \"be\", \"of\", \"on\", \"and\"]\n",
    "for w in clean_words:\n",
    "    if w in lst:\n",
    "        clean_words.remove(w)\n",
    "\n",
    "#compare to stop words list and clean more:\n",
    "def notMatch(a, b):\n",
    "    clean_words2 = [x for x in a if x not in b]\n",
    "    return clean_words2\n",
    "\n",
    "notMatch(clean_words, stop)"
   ]
  },
  {
   "cell_type": "code",
   "execution_count": 276,
   "metadata": {
    "collapsed": false
   },
   "outputs": [
    {
     "data": {
      "text/plain": [
       "5.638036809815951"
      ]
     },
     "execution_count": 276,
     "metadata": {},
     "output_type": "execute_result"
    }
   ],
   "source": [
    "#STEP 3: Compare word lists with cleaned tips to get sentiment ratio:\n",
    "\n",
    "count_n = 0\n",
    "list_n = []\n",
    "count_p = 0\n",
    "list_p = []\n",
    "\n",
    "for w in clean_words:\n",
    "    if w in positive:\n",
    "        count_p += 1   #count the number of positive words\n",
    "        list_p.append(w)\n",
    "    elif w in negative:\n",
    "        count_n += 1   #count the number of negative words\n",
    "        list_n.append(w)\n",
    "        \n",
    "        \n",
    "print count_n\n",
    "print count_p\n",
    "\n",
    "\n",
    "float(len(list_p))/len(list_n)\n",
    "\n"
   ]
  },
  {
   "cell_type": "code",
   "execution_count": 277,
   "metadata": {
    "collapsed": false
   },
   "outputs": [
    {
     "data": {
      "text/plain": [
       "[('best', 160),\n",
       " ('worth', 123),\n",
       " ('this', 103),\n",
       " ('good', 97),\n",
       " ('are', 94),\n",
       " ('great', 81),\n",
       " ('or', 55),\n",
       " ('can', 55),\n",
       " ('all', 54),\n",
       " ('one', 49)]"
      ]
     },
     "execution_count": 277,
     "metadata": {},
     "output_type": "execute_result"
    }
   ],
   "source": [
    "#Top positive mentions:\n",
    "\n",
    "from collections import Counter\n",
    "\n",
    "p = Counter(list_p)\n",
    "\n",
    "p.most_common(10)"
   ]
  },
  {
   "cell_type": "code",
   "execution_count": 278,
   "metadata": {
    "collapsed": false
   },
   "outputs": [
    {
     "data": {
      "text/plain": [
       "[('expensive', 18),\n",
       " ('wicked', 18),\n",
       " ('pricey', 14),\n",
       " ('desert', 10),\n",
       " ('cold', 9),\n",
       " ('die', 9),\n",
       " ('bad', 9),\n",
       " ('crazy', 9),\n",
       " ('disappointed', 8),\n",
       " ('hype', 7)]"
      ]
     },
     "execution_count": 278,
     "metadata": {},
     "output_type": "execute_result"
    }
   ],
   "source": [
    "#Top negative mentions:\n",
    "n = Counter(list_n)\n",
    "\n",
    "n.most_common(10)"
   ]
  },
  {
   "cell_type": "markdown",
   "metadata": {
    "collapsed": true
   },
   "source": [
    "The sentiment is really positive, which is aligned with its overall rating of 4 stars.  The restaurant can see the top positive mentions above as areas of strength, whereas the top negative emotions could be areas of improvement."
   ]
  },
  {
   "cell_type": "markdown",
   "metadata": {},
   "source": [
    "Let's visualize the top mentions by creating word clouds."
   ]
  },
  {
   "cell_type": "code",
   "execution_count": 257,
   "metadata": {
    "collapsed": false
   },
   "outputs": [],
   "source": [
    "from wordcloud import WordCloud\n",
    "\n",
    "#convert negative & positive lists to string:\n",
    "list_n = \" \".join(list_n)\n",
    "list_p = \" \".join(list_p)"
   ]
  },
  {
   "cell_type": "code",
   "execution_count": 259,
   "metadata": {
    "collapsed": false
   },
   "outputs": [
    {
     "data": {
      "text/plain": [
       "<matplotlib.figure.Figure at 0xb50f1c18>"
      ]
     },
     "execution_count": 259,
     "metadata": {},
     "output_type": "execute_result"
    },
    {
     "data": {
      "text/plain": [
       "<matplotlib.image.AxesImage at 0xb52bb358>"
      ]
     },
     "execution_count": 259,
     "metadata": {},
     "output_type": "execute_result"
    },
    {
     "data": {
      "text/plain": [
       "(-0.5, 399.5, 199.5, -0.5)"
      ]
     },
     "execution_count": 259,
     "metadata": {},
     "output_type": "execute_result"
    },
    {
     "data": {
      "image/png": "[encoded data removed]",
      "text/plain": [
       "<matplotlib.figure.Figure at 0xb50f1c18>"
      ]
     },
     "metadata": {},
     "output_type": "display_data"
    }
   ],
   "source": [
    "#negative sentiment word cloud:\n",
    "\n",
    "wordcloud = WordCloud(max_font_size=50, colormap=\"plasma\").generate(list_n)\n",
    "plt.figure()\n",
    "plt.imshow(wordcloud, interpolation='bilinear')\n",
    "plt.axis(\"off\")\n",
    "plt.show()"
   ]
  },
  {
   "cell_type": "markdown",
   "metadata": {},
   "source": [
    "This word cloud tells us that many people dislike the prices at Bacchanal.  However, the other words are quite vague.  Also, one of the most common negative words is \"wicked\" but it actually refers to \"Wicked Spoon\", a big competitor.  Perhaps getting the frequencies of bigrams rather than individual words would yield better results."
   ]
  },
  {
   "cell_type": "code",
   "execution_count": 245,
   "metadata": {
    "collapsed": false
   },
   "outputs": [
    {
     "data": {
      "text/plain": [
       "<matplotlib.figure.Figure at 0xb4469080>"
      ]
     },
     "execution_count": 245,
     "metadata": {},
     "output_type": "execute_result"
    },
    {
     "data": {
      "text/plain": [
       "<matplotlib.image.AxesImage at 0xb774f668>"
      ]
     },
     "execution_count": 245,
     "metadata": {},
     "output_type": "execute_result"
    },
    {
     "data": {
      "text/plain": [
       "(-0.5, 399.5, 199.5, -0.5)"
      ]
     },
     "execution_count": 245,
     "metadata": {},
     "output_type": "execute_result"
    },
    {
     "data": {
      "image/png": "[encoded data removed]",
      "text/plain": [
       "<matplotlib.figure.Figure at 0xb4469080>"
      ]
     },
     "metadata": {},
     "output_type": "display_data"
    }
   ],
   "source": [
    "#positive sentiment word cloud:\n",
    "\n",
    "wordcloud = WordCloud(max_font_size=50, colormap=\"YlGnBu\").generate(list_p)\n",
    "plt.figure()\n",
    "plt.imshow(wordcloud, interpolation='bilinear')\n",
    "plt.axis(\"off\")\n",
    "plt.show()"
   ]
  },
  {
   "cell_type": "markdown",
   "metadata": {},
   "source": [
    "### Merge aggregated tip and checkin datasets to master df"
   ]
  },
  {
   "cell_type": "code",
   "execution_count": 218,
   "metadata": {
    "collapsed": false
   },
   "outputs": [],
   "source": [
    "#merge checkin aggregated df above with the master df:\n",
    "mdf2 = mdf.merge(checkin1, left_on = \"business_id\", right_on = \"business_id\")"
   ]
  },
  {
   "cell_type": "code",
   "execution_count": 219,
   "metadata": {
    "collapsed": false
   },
   "outputs": [],
   "source": [
    "mdf3 = mdf2.merge(tips, left_on = \"business_id\", right_on = \"business_id\")"
   ]
  },
  {
   "cell_type": "code",
   "execution_count": 220,
   "metadata": {
    "collapsed": false
   },
   "outputs": [
    {
     "data": {
      "text/plain": [
       "699629"
      ]
     },
     "execution_count": 220,
     "metadata": {},
     "output_type": "execute_result"
    }
   ],
   "source": [
    "#Create a dataframe with only restaurants:\n",
    "dfr= mdf3[mdf3['Restaurants_dum'] == 1]\n",
    "len(dfr)"
   ]
  },
  {
   "cell_type": "code",
   "execution_count": 221,
   "metadata": {
    "collapsed": false
   },
   "outputs": [],
   "source": [
    "dfr.info()"
   ]
  },
  {
   "cell_type": "code",
   "execution_count": 223,
   "metadata": {
    "collapsed": false,
    "scrolled": false
   },
   "outputs": [
    {
     "data": {
      "text/plain": [
       "<seaborn.axisgrid.FacetGrid at 0xb1daf4e0>"
      ]
     },
     "execution_count": 223,
     "metadata": {},
     "output_type": "execute_result"
    },
    {
     "data": {
      "image/png": "[encoded data removed]",
      "text/plain": [
       "<matplotlib.figure.Figure at 0xb1daf630>"
      ]
     },
     "metadata": {},
     "output_type": "display_data"
    }
   ],
   "source": [
    "# vizualization of review count for high and low ratings\n",
    "df_star_reviewcount= dfr.groupby(['stars_dum'], as_index=False).agg({'review_count':'sum'})\n",
    "sns.factorplot(x='stars_dum',y='review_count', data=df_star_reviewcount, kind='bar')"
   ]
  },
  {
   "cell_type": "markdown",
   "metadata": {
    "collapsed": true
   },
   "source": [
    "## Validate finding with Machine Learning"
   ]
  },
  {
   "cell_type": "code",
   "execution_count": 279,
   "metadata": {
    "collapsed": true
   },
   "outputs": [],
   "source": [
    "#import modules\n",
    "\n",
    "from sklearn.model_selection import train_test_split\n",
    "from sklearn.ensemble import RandomForestClassifier"
   ]
  },
  {
   "cell_type": "code",
   "execution_count": 280,
   "metadata": {
    "collapsed": false
   },
   "outputs": [
    {
     "data": {
      "text/plain": [
       "DecisionTreeClassifier(class_weight=None, criterion='gini', max_depth=3,\n",
       "            max_features=None, max_leaf_nodes=None,\n",
       "            min_impurity_decrease=0.0, min_impurity_split=None,\n",
       "            min_samples_leaf=1, min_samples_split=2,\n",
       "            min_weight_fraction_leaf=0.0, presort=False, random_state=None,\n",
       "            splitter='best')"
      ]
     },
     "execution_count": 280,
     "metadata": {},
     "output_type": "execute_result"
    }
   ],
   "source": [
    "#create dataframe specifically for the decision tree (because we don't need to \n",
    "#include a lot of the columns as X variables, we can only use columns with numeric values):\n",
    "dfr2 = dfr[[\"review_count\", \"Parking\", \"is_open\",\"BusinessAcceptsCreditCards\",\"Alcohol\",\"DogsAllowed\",\"BikeParking\",\\\n",
    "           \"stars_dum\",\"checkins\"]]\n",
    "\n",
    "#Make X & Y\n",
    "X=dfr2.drop('stars_dum',axis=1)\n",
    "Y =dfr2['stars_dum']\n",
    "\n",
    "dt = tree.DecisionTreeClassifier(max_depth=3)\n",
    "\n",
    "dt.fit(X,Y)"
   ]
  },
  {
   "cell_type": "code",
   "execution_count": 281,
   "metadata": {
    "collapsed": false
   },
   "outputs": [
    {
     "data": {
      "image/png": "[encoded data removed]",
      "text/plain": [
       "<IPython.core.display.Image object>"
      ]
     },
     "execution_count": 281,
     "metadata": {},
     "output_type": "execute_result"
    }
   ],
   "source": [
    "# This code will visualize a decision tree dt, trained with the attributes in X and the class labels in Y\n",
    "dt_feature_names = list(X.columns)\n",
    "dt_target_names = np.array(Y.unique(),dtype=np.string_) \n",
    "tree.export_graphviz(dt, out_file='tree.dot', \n",
    "    feature_names=dt_feature_names, class_names=dt_target_names, filled=True)  \n",
    "graph = pydotplus.graph_from_dot_file('tree.dot')\n",
    "Image(graph.create_png())"
   ]
  },
  {
   "cell_type": "markdown",
   "metadata": {},
   "source": [
    "### Interpreting the tree\n",
    "\n",
    "1. In general, the number of reviews and checkins are the most important factors for a restaurant's rating.\n",
    "\n",
    "2. Surprisingly, for restaurants with a low number of reviews, Dogs Allowed is an important factor for whether they have a high or lower rating."
   ]
  },
  {
   "cell_type": "markdown",
   "metadata": {},
   "source": [
    "# Part IV: User Activity on Yelp"
   ]
  },
  {
   "cell_type": "code",
   "execution_count": null,
   "metadata": {
    "collapsed": false
   },
   "outputs": [],
   "source": [
    "tips.head(3)\n",
    "\n",
    "gbt = tips[[\"date\", \"text\"]].groupby(\"date\", as_index = False).count()\n",
    "gbt"
   ]
  },
  {
   "cell_type": "code",
   "execution_count": 263,
   "metadata": {
    "collapsed": false
   },
   "outputs": [
    {
     "data": {
      "text/plain": [
       "<matplotlib.figure.Figure at 0xb462d3c8>"
      ]
     },
     "execution_count": 263,
     "metadata": {},
     "output_type": "execute_result"
    },
    {
     "data": {
      "text/plain": [
       "<matplotlib.text.Text at 0xb52bb978>"
      ]
     },
     "execution_count": 263,
     "metadata": {},
     "output_type": "execute_result"
    },
    {
     "data": {
      "text/plain": [
       "<matplotlib.text.Text at 0xbea3c978>"
      ]
     },
     "execution_count": 263,
     "metadata": {},
     "output_type": "execute_result"
    },
    {
     "data": {
      "text/plain": [
       "<matplotlib.text.Text at 0xbebfd048>"
      ]
     },
     "execution_count": 263,
     "metadata": {},
     "output_type": "execute_result"
    },
    {
     "data": {
      "text/plain": [
       "[<matplotlib.lines.Line2D at 0xbeb08828>]"
      ]
     },
     "execution_count": 263,
     "metadata": {},
     "output_type": "execute_result"
    },
    {
     "data": {
      "image/png": "[encoded data removed]",
      "text/plain": [
       "<matplotlib.figure.Figure at 0xb462d3c8>"
      ]
     },
     "metadata": {},
     "output_type": "display_data"
    }
   ],
   "source": [
    "#total number of restaurant tips on Yelp over time:\n",
    "plt.figure(figsize=(15.24, 5.56))\n",
    "plt.ylabel('number of tips')\n",
    "plt.xlabel('time')\n",
    "plt.title(\"Total Number of Yelp Restaurant Tips Over Time\")\n",
    "plt.plot(gbt[\"text\"], color='skyblue')\n",
    "plt.show()"
   ]
  },
  {
   "cell_type": "markdown",
   "metadata": {},
   "source": [
    "The total number of restaurant tips over time, shown by the time series plot above, can be a proxy for Yelp user activity over time.  This is useful for Yelp in tracking high-level customer engagement over the years."
   ]
  },
  {
   "cell_type": "code",
   "execution_count": null,
   "metadata": {
    "collapsed": true
   },
   "outputs": [],
   "source": [
    "#identify which years saw big drops in user tip numbers\n",
    "\n",
    "gbt.loc[1150:1250]"
   ]
  },
  {
   "cell_type": "markdown",
   "metadata": {},
   "source": [
    "# Part V: Conclusion & Ideas for Further Analysis"
   ]
  },
  {
   "cell_type": "markdown",
   "metadata": {},
   "source": [
    "Restaurants are the most highly reviewed type of business and not surprisingly, those in major metropolitan areas are the most popular.  It's important to note that this dataset only covers some, not nearly all, of the metropolitan areas in the selected countries. That's why cities like SF and New York are not included.\n",
    "\n",
    "Individual restaurants can use Yelp data to determine which hours of the day are peak hours, based on when customers leave tips on Yelp.  The decision tree also suggests the most important factors in getting more business reviews, which is useful because more reviews means more visibility and popularity.\n",
    "\n",
    "**For further analysis:**<br>\n",
    "This project didn't leverage the Reviews dataset due to limited computer memory.  However, running text analytics with the reviews would provide much more specific suggestions to restaurants on how they can improve their business.  It would also provide useful customer engagement information to Yelp.\n",
    "\n",
    "The word clouds could also be improved by using bigram frequencies instead of individual words.  This would provide more context for the more vague words."
   ]
  }
 ],
 "metadata": {
  "kernelspec": {
   "display_name": "Python 2",
   "language": "python",
   "name": "python2"
  },
  "language_info": {
   "codemirror_mode": {
    "name": "ipython",
    "version": 2
   },
   "file_extension": ".py",
   "mimetype": "text/x-python",
   "name": "python",
   "nbconvert_exporter": "python",
   "pygments_lexer": "ipython2",
   "version": "2.7.11"
  }
 },
 "nbformat": 4,
 "nbformat_minor": 0
}
